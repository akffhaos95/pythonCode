{
 "cells": [
  {
   "cell_type": "code",
   "execution_count": 2,
   "metadata": {},
   "outputs": [],
   "source": [
    "import urllib\n",
    "import requests\n",
    "from bs4 import BeautifulSoup"
   ]
  },
  {
   "cell_type": "code",
   "execution_count": 13,
   "metadata": {},
   "outputs": [
    {
     "name": "stdout",
     "output_type": "stream",
     "text": [
      "나만의 웹 크롤러 만들기(4): Django로 크롤링한 데이터 저장하기\n",
      "나만의 웹 크롤러 만들기(3): Selenium으로 무적 크롤러 만들기\n",
      "Django에 Social Login 붙이기: Django세팅부터 Facebook/Google 개발 설정까지\n",
      "Django에 Custom인증 붙이기\n",
      "나만의 웹 크롤러 만들기(2): Login with Session\n",
      "나만의 웹 크롤러 만들기 with Requests/BeautifulSoup\n",
      "Celery로 TelegramBot 알림 보내기\n",
      "Virtualenv/VirtualenvWrapper OS별 설치&이용법\n",
      "[DjangoTDDStudy] #02: UnitTest 이용해 기능 테스트 하기\n",
      "[DjangoTDDStudy] #01: 개발환경 세팅하기(Selenium / ChromeDriver)\n",
      "[DjangoTDDStudy] #00: 스터디를 시작하며\n",
      "Fabric Put 커맨드가 No Such File Exception을 반환할 때 해결법\n",
      "CKEditor의 라이센스와 오픈소스 라이센스\n",
      "ReactNative The Basis 번역을 끝냈습니다.\n",
      "[React Native 번역]#01: 시작하기\n",
      "[번역] 장고(Django)와 함께하는 Celery 첫걸음\n",
      "Chrome Native Adblockr 대체하기\n",
      "CustoMac 설치 분투기\n",
      "Ubuntu14.04에 OhMyZsh 설치\n",
      "Ubuntu14.04에서 pip로 mysqlclient 설치 실패시\n",
      "Ubuntu14.04에서 Python3기반 virtualenvwrapper 설치\n",
      "mac OS X에서 pip virtualenvwrapper 설치 시 uninstalling six 에서 Exception 발생 시\n",
      "Fabric for Python3 (Fabric3)\n",
      "Windows에서 pip로 mysqlclient 설치 실패시(python3.4/3.5)\n",
      "맥에서 윈도RDP로 접속시 한영전환하기.\n",
      "pip로 mysqlclient설치 중 mac os x에서 egg_info / OSError 발생시 대처방법\n"
     ]
    }
   ],
   "source": [
    "req = requests.get('https://beomi.github.io/beomi.github.io_old/')\n",
    "## HTML 소스 가져오기\n",
    "html = req.text\n",
    "soup = BeautifulSoup(html, 'html.parser')\n",
    "my_titles = soup.select('h3 > a')\n",
    "for title in my_titles:\n",
    "    print(title.text)"
   ]
  },
  {
   "cell_type": "code",
   "execution_count": 15,
   "metadata": {},
   "outputs": [
    {
     "data": {
      "text/plain": [
       "['body', 'strikeout']"
      ]
     },
     "execution_count": 15,
     "metadata": {},
     "output_type": "execute_result"
    }
   ],
   "source": [
    "css_soup = BeautifulSoup('<p class=\"body\"></p>')\n",
    "css_soup.p['class']\n",
    "# [\"body\"]\n",
    "\n",
    "css_soup = BeautifulSoup('<p class=\"body strikeout\"></p>')\n",
    "css_soup.p['class']\n",
    "# [\"body\", \"strikeout\"]"
   ]
  },
  {
   "cell_type": "code",
   "execution_count": 16,
   "metadata": {},
   "outputs": [
    {
     "name": "stdout",
     "output_type": "stream",
     "text": [
      "<p>Back to the <a rel=\"index contents\">homepage</a></p>\n"
     ]
    }
   ],
   "source": [
    "rel_soup = BeautifulSoup('<p>Back to the <a rel=\"index\">homepage</a></p>')\n",
    "rel_soup.a['rel']\n",
    "# ['index']\n",
    "rel_soup.a['rel'] = ['index', 'contents']\n",
    "print(rel_soup.p)\n",
    "# <p>Back to the <a rel=\"index contents\">homepage</a></p>"
   ]
  },
  {
   "cell_type": "code",
   "execution_count": 17,
   "metadata": {},
   "outputs": [
    {
     "data": {
      "text/plain": [
       "'body strikeout'"
      ]
     },
     "execution_count": 17,
     "metadata": {},
     "output_type": "execute_result"
    }
   ],
   "source": [
    "no_list_soup = BeautifulSoup('<p class=\"body strikeout\"></p>', 'html', multi_valued_attributes=None)\n",
    "no_list_soup.p['class']\n",
    "# u'body strikeout'"
   ]
  },
  {
   "cell_type": "code",
   "execution_count": 18,
   "metadata": {},
   "outputs": [
    {
     "ename": "NameError",
     "evalue": "name 'id_soup' is not defined",
     "output_type": "error",
     "traceback": [
      "\u001b[1;31m---------------------------------------------------------------------------\u001b[0m",
      "\u001b[1;31mNameError\u001b[0m                                 Traceback (most recent call last)",
      "\u001b[1;32m<ipython-input-18-db70c2a36e9e>\u001b[0m in \u001b[0;36m<module>\u001b[1;34m\u001b[0m\n\u001b[1;32m----> 1\u001b[1;33m \u001b[0mid_soup\u001b[0m\u001b[1;33m.\u001b[0m\u001b[0mp\u001b[0m\u001b[1;33m.\u001b[0m\u001b[0mget_attribute_list\u001b[0m\u001b[1;33m(\u001b[0m\u001b[1;34m'id'\u001b[0m\u001b[1;33m)\u001b[0m\u001b[1;33m\u001b[0m\u001b[1;33m\u001b[0m\u001b[0m\n\u001b[0m\u001b[0;32m      2\u001b[0m \u001b[1;31m# [\"my id\"]\u001b[0m\u001b[1;33m\u001b[0m\u001b[1;33m\u001b[0m\u001b[1;33m\u001b[0m\u001b[0m\n",
      "\u001b[1;31mNameError\u001b[0m: name 'id_soup' is not defined"
     ]
    }
   ],
   "source": [
    "id_soup.p.get_attribute_list('id')\n",
    "# [\"my id\"]"
   ]
  },
  {
   "cell_type": "code",
   "execution_count": 107,
   "metadata": {},
   "outputs": [
    {
     "name": "stdout",
     "output_type": "stream",
     "text": [
      "<option class=\"selectbox-default\" label=\"1\" selected=\"selected\" value=\"1205.7\"> 미국 달러 USD</option>\n"
     ]
    }
   ],
   "source": [
    "req = requests.get('https://finance.naver.com/marketindex/')\n",
    "## HTML 소스 가져오기\n",
    "html = req.text\n",
    "soup = BeautifulSoup(html, 'html.parser')\n",
    "option = soup.find_all('option')\n",
    "print(option[1])"
   ]
  },
  {
   "cell_type": "code",
   "execution_count": 111,
   "metadata": {},
   "outputs": [],
   "source": [
    "country = {}\n",
    "for i in option:\n",
    "    if i.text not in country:\n",
    "        country[i.text.strip()] = i['value']\n",
    "    "
   ]
  },
  {
   "cell_type": "code",
   "execution_count": 112,
   "metadata": {},
   "outputs": [
    {
     "data": {
      "text/plain": [
       "{'대한민국 원 KRW': '1',\n",
       " '미국 달러 USD': '1205.7',\n",
       " '유럽연합 유로 EUR': '1374.68',\n",
       " '일본 엔 JPY': '11.273499999999999',\n",
       " '중국 위안 CNY': '172.31',\n",
       " '홍콩 달러 HKD': '155.51',\n",
       " '대만 달러 TWD': '40.92',\n",
       " '영국 파운드 GBP': '1513.45',\n",
       " '오만 리알 OMR': '3131.69',\n",
       " '캐나다 달러 CAD': '892.91',\n",
       " '스위스 프랑 CHF': '1274.86',\n",
       " '스웨덴 크로나 SEK': '132.59',\n",
       " '호주 달러 AUD': '842.97',\n",
       " '뉴질랜드 달러 NZD': '791.0',\n",
       " '체코 코루나 CZK': '51.51',\n",
       " '칠레 페소 CLP': '1.54',\n",
       " '터키 리라 TRY': '175.81',\n",
       " '몽골 투그릭 MNT': '0.43',\n",
       " '이스라엘 세켈 ILS': '351.2',\n",
       " '덴마크 크로네 DKK': '184.61',\n",
       " '노르웨이 크로네 NOK': '129.44',\n",
       " '사우디아라비아 리얄 SAR': '321.47',\n",
       " '쿠웨이트 디나르 KWD': '3920.98',\n",
       " '바레인 디나르 BHD': '3197.72',\n",
       " '아랍에미리트 디르함 AED': '328.25',\n",
       " '요르단 디나르 JOD': '1700.56',\n",
       " '이집트 파운드 EGP': '75.5',\n",
       " '태국 바트 THB': '38.0',\n",
       " '싱가포르 달러 SGD': '865.7',\n",
       " '말레이시아 링깃 MYR': '282.33',\n",
       " '인도네시아 루피아 IDR': '0.0828',\n",
       " '카타르 리얄 QAR': '331.15',\n",
       " '카자흐스탄 텡게 KZT': '2.92',\n",
       " '브루나이 달러 BND': '865.11',\n",
       " '인도 루피 INR': '16.02',\n",
       " '파키스탄 루피 PKR': '7.21',\n",
       " '방글라데시 타카 BDT': '14.22',\n",
       " '필리핀 페소 PHP': '24.32',\n",
       " '멕시코 페소 MXN': '53.85',\n",
       " '브라질 레알 BRL': '224.52',\n",
       " '베트남 동 VND': '0.052000000000000005',\n",
       " '남아프리카 공화국 랜드 ZAR': '72.35',\n",
       " '러시아 루블 RUB': '16.96',\n",
       " '헝가리 포린트 HUF': '3.88',\n",
       " '폴란드 즈워티 PLN': '306.01'}"
      ]
     },
     "execution_count": 112,
     "metadata": {},
     "output_type": "execute_result"
    }
   ],
   "source": [
    "country"
   ]
  },
  {
   "cell_type": "code",
   "execution_count": 101,
   "metadata": {},
   "outputs": [
    {
     "name": "stdout",
     "output_type": "stream",
     "text": [
      "대한민국 원 KRW 1\n",
      "미국 달러 USD 1206.7\n",
      "유럽연합 유로 EUR 1375.58\n",
      "일본 엔 JPY 11.2865\n",
      "중국 위안 CNY 172.4\n",
      "홍콩 달러 HKD 155.65\n",
      "대만 달러 TWD 40.96\n",
      "영국 파운드 GBP 1514.11\n",
      "오만 리알 OMR 3134.29\n",
      "캐나다 달러 CAD 893.29\n",
      "스위스 프랑 CHF 1276.32\n",
      "스웨덴 크로나 SEK 132.62\n",
      "호주 달러 AUD 843.06\n",
      "뉴질랜드 달러 NZD 791.41\n",
      "체코 코루나 CZK 51.55\n",
      "칠레 페소 CLP 1.54\n",
      "터키 리라 TRY 175.96\n",
      "몽골 투그릭 MNT 0.43\n",
      "이스라엘 세켈 ILS 351.75\n",
      "덴마크 크로네 DKK 184.72\n",
      "노르웨이 크로네 NOK 129.45\n",
      "사우디아라비아 리얄 SAR 321.73\n",
      "쿠웨이트 디나르 KWD 3924.23\n",
      "바레인 디나르 BHD 3200.12\n",
      "아랍에미리트 디르함 AED 328.52\n",
      "요르단 디나르 JOD 1701.97\n",
      "이집트 파운드 EGP 75.56\n",
      "태국 바트 THB 38.01\n",
      "싱가포르 달러 SGD 866.17\n",
      "말레이시아 링깃 MYR 282.77\n",
      "인도네시아 루피아 IDR 0.08289999999999999\n",
      "카타르 리얄 QAR 331.32\n",
      "카자흐스탄 텡게 KZT 2.92\n",
      "브루나이 달러 BND 865.82\n",
      "인도 루피 INR 16.03\n",
      "파키스탄 루피 PKR 7.22\n",
      "방글라데시 타카 BDT 14.23\n",
      "필리핀 페소 PHP 24.33\n",
      "멕시코 페소 MXN 53.84\n",
      "브라질 레알 BRL 224.71\n",
      "베트남 동 VND 0.052000000000000005\n",
      "남아프리카 공화국 랜드 ZAR 72.43\n",
      "러시아 루블 RUB 16.98\n",
      "헝가리 포린트 HUF 3.89\n",
      "폴란드 즈워티 PLN 306.19\n",
      "45\n"
     ]
    }
   ],
   "source": [
    "for i in country:\n",
    "    print(i, country[i])\n",
    "print(len(country))"
   ]
  },
  {
   "cell_type": "code",
   "execution_count": 125,
   "metadata": {},
   "outputs": [],
   "source": [
    "url = \"https://finance.naver.com/marketindex/exchangeList.nhn\""
   ]
  },
  {
   "cell_type": "code",
   "execution_count": 126,
   "metadata": {},
   "outputs": [],
   "source": [
    "r = requests.get(url)"
   ]
  },
  {
   "cell_type": "code",
   "execution_count": 127,
   "metadata": {},
   "outputs": [],
   "source": [
    "soup = BeautifulSoup(r.text, 'html.parser')"
   ]
  },
  {
   "cell_type": "code",
   "execution_count": 128,
   "metadata": {},
   "outputs": [],
   "source": [
    "tit = soup.select(\"td.tit>a\")\n",
    "tit2 = soup.select(\"td.sale\")"
   ]
  },
  {
   "cell_type": "code",
   "execution_count": 142,
   "metadata": {},
   "outputs": [],
   "source": [
    "list1, list2 = [], []\n",
    "for i,j in zip(tit, tit2):\n",
    "    list1.append(i.string.strip())\n",
    "    list2.append(j.string.strip())\n"
   ]
  },
  {
   "cell_type": "code",
   "execution_count": 143,
   "metadata": {},
   "outputs": [
    {
     "data": {
      "text/plain": [
       "['미국 USD',\n",
       " '유럽연합 EUR',\n",
       " '일본 JPY (100엔)',\n",
       " '중국 CNY',\n",
       " '홍콩 HKD',\n",
       " '대만 TWD',\n",
       " '영국 GBP',\n",
       " '오만 OMR',\n",
       " '캐나다 CAD',\n",
       " '스위스 CHF',\n",
       " '스웨덴 SEK',\n",
       " '호주 AUD',\n",
       " '뉴질랜드 NZD',\n",
       " '체코 CZK',\n",
       " '칠레 CLP',\n",
       " '터키 TRY',\n",
       " '몽골 MNT',\n",
       " '이스라엘 ILS',\n",
       " '덴마크 DKK',\n",
       " '노르웨이 NOK',\n",
       " '사우디아라비아 SAR',\n",
       " '쿠웨이트 KWD',\n",
       " '바레인 BHD',\n",
       " '아랍에미리트 AED',\n",
       " '요르단 JOD',\n",
       " '이집트 EGP',\n",
       " '태국 THB',\n",
       " '싱가포르 SGD',\n",
       " '말레이시아 MYR',\n",
       " '인도네시아 IDR 100',\n",
       " '카타르 QAR',\n",
       " '카자흐스탄 KZT',\n",
       " '브루나이 BND',\n",
       " '인도 INR',\n",
       " '파키스탄 PKR',\n",
       " '방글라데시 BDT',\n",
       " '필리핀 PHP',\n",
       " '멕시코 MXN',\n",
       " '브라질 BRL',\n",
       " '베트남 VND 100',\n",
       " '남아프리카 공화국 ZAR',\n",
       " '러시아 RUB',\n",
       " '헝가리 HUF',\n",
       " '폴란드 PLN']"
      ]
     },
     "execution_count": 143,
     "metadata": {},
     "output_type": "execute_result"
    }
   ],
   "source": [
    "list1"
   ]
  },
  {
   "cell_type": "code",
   "execution_count": 144,
   "metadata": {},
   "outputs": [
    {
     "data": {
      "text/plain": [
       "['1,206.10',\n",
       " '1,375.20',\n",
       " '1,127.78',\n",
       " '172.35',\n",
       " '155.57',\n",
       " '40.93',\n",
       " '1,514.44',\n",
       " '3,132.73',\n",
       " '892.85',\n",
       " '1,275.42',\n",
       " '132.64',\n",
       " '843.31',\n",
       " '791.20',\n",
       " '51.53',\n",
       " '1.54',\n",
       " '175.87',\n",
       " '0.43',\n",
       " '351.23',\n",
       " '184.68',\n",
       " '129.47',\n",
       " '321.58',\n",
       " '3,922.28',\n",
       " '3,198.78',\n",
       " '328.36',\n",
       " '1,701.13',\n",
       " '75.52',\n",
       " '38.02',\n",
       " '866.02',\n",
       " '282.43',\n",
       " '8.28',\n",
       " '331.22',\n",
       " '2.92',\n",
       " '865.39',\n",
       " '16.03',\n",
       " '7.22',\n",
       " '14.22',\n",
       " '24.34',\n",
       " '53.86',\n",
       " '224.60',\n",
       " '5.20',\n",
       " '72.45',\n",
       " '16.97',\n",
       " '3.89',\n",
       " '306.52']"
      ]
     },
     "execution_count": 144,
     "metadata": {},
     "output_type": "execute_result"
    }
   ],
   "source": [
    "list2"
   ]
  },
  {
   "cell_type": "code",
   "execution_count": 146,
   "metadata": {},
   "outputs": [],
   "source": [
    "url2 = \"https://music.bugs.co.kr/chart?wl_ref=M_left_02_01\""
   ]
  },
  {
   "cell_type": "code",
   "execution_count": 238,
   "metadata": {},
   "outputs": [
    {
     "name": "stdout",
     "output_type": "stream",
     "text": [
      "103\n",
      "1 OHIO Crush OHIO\n",
      "2 How You Like That BLACKPINK How You Like That\n",
      "3 여름 안에서 (Covered By 싹쓰리) (Feat. 황광희) 싹쓰리 (유두래곤, 린다G, 비룡) 여름 안에서 (Covered By 싹쓰리)\n",
      "4 보라빛 밤 (pporappippam) 선미 보라빛 밤 (pporappippam)\n",
      "5 마리아 (Maria) 화사(Hwa Sa) María\n",
      "6 AWay 정은지 Simple\n",
      "7 PLAY (Feat. 창모) 청하 PLAY\n",
      "8 Summer Hate (Feat. 비) 지코 RANDOM BOX\n",
      "9 Monster 레드벨벳-아이린&슬기 Monster - The 1st Mini Album\n",
      "10 아직 너의 시간에 살아 이수현 사이코지만 괜찮아 OST Part.4\n",
      "11 Downtown Baby 블루(BLOO) Downtown Baby\n",
      "12 에잇(Prod.&Feat. SUGA of BTS) 아이유(IU) 에잇\n",
      "13 Dolphin 오마이걸(OH MY GIRL) NONSTOP\n",
      "14 Apple 여자친구(GFRIEND) 回:Song of the Sirens\n",
      "15 살짝 설렜어 (Nonstop) 오마이걸(OH MY GIRL) NONSTOP\n",
      "16 Into the I-LAND 아이유(IU) I-LAND Part.1 Signal Song\n",
      "17 MORE & MORE TWICE (트와이스) MORE & MORE\n",
      "18 Memories Maroon 5(마룬 파이브) Memories\n",
      "19 아로하 조정석 슬기로운 의사생활 OST Part 3\n",
      "20 Dance Monkey Tones And I The Kids Are Coming\n",
      "21 사랑하게 될 줄 알았어 전미도 슬기로운 의사생활 OST Part 11\n",
      "22 Blueming 아이유(IU) Love poem\n",
      "23 숨 (Breath) 샘김(Sam Kim) 사이코지만 괜찮아 OST Part.2\n",
      "24 Say So Doja Cat(도자 캣) Hot Pink\n",
      "25 거짓말이라도 해서 널 보고싶어 백지영 거짓말이라도 해서 널 보고싶어\n",
      "26 어떻게 지내 (Prod. By VAN.C) 오반 어떻게 지내\n",
      "27 Juice Lizzo Cuz I Love You (Deluxe)\n",
      "28 Don't Start Now Dua Lipa(두아 리파) Future Nostalgia\n",
      "29 환상동화 (Secret Story of the Swan) IZ*ONE(아이즈원) Oneiric Diary (幻想日記)\n",
      "30 나비와 고양이 (feat. 백현 (BAEKHYUN)) 볼빨간사춘기 사춘기집Ⅱ 꽃 본 나비\n",
      "31 Maniac Conan Gray Maniac\n",
      "32 흔들리는 꽃들 속에서 네 샴푸향이 느껴진거야 장범준 멜로가 체질 OST Part 3\n",
      "33 My Tale 박원 사이코지만 괜찮아 OST Part.3\n",
      "34 You're Cold (더 많이 사랑한 쪽이 아프대) 헤이즈(Heize) 사이코지만 괜찮아 OST Part.1\n",
      "35 WANNABE ITZY (있지) IT'z ME\n",
      "36 12:45 (Stripped) Etham 12:45 (Stripped)\n",
      "37 METEOR 창모(CHANGMO) Boyhood\n",
      "38 좋은 사람 있으면 소개시켜줘 조이 (JOY) 슬기로운 의사생활 OST Part 2\n",
      "39 품 볼빨간사춘기 사춘기집Ⅱ 꽃 본 나비\n",
      "40 Happy 태연 (TAEYEON) Happy\n",
      "41 BUNGEE (Fall in Love) 오마이걸(OH MY GIRL) OH MY GIRL SUMMER PACKAGE [FALL IN LOVE]\n",
      "42 2002 Anne-Marie(앤 마리) Speak Your Mind [Deluxe]\n",
      "43 Error (Feat. Loopy) ASH ISLAND Error\n",
      "44 불 좀 꺼줄래 오반 불 좀 꺼줄래\n",
      "45 Left & Right 세븐틴(Seventeen) SEVENTEEN 7th Mini Album '헹가래'\n",
      "46 화려하지 않은 고백 규현 (KYUHYUN) 슬기로운 의사생활 OST Part 4\n",
      "47 언제라도 어디에서라도 정승환 언제라도 어디에서라도\n",
      "48 Psycho Red Velvet (레드벨벳) ‘The ReVe Festival’ Finale\n",
      "49 밤이 깊었네 (Drama Ver.) 미도와 파라솔 슬기로운 의사생활 OST Part 10\n",
      "50 LALALILALA 에이프릴(APRIL) 에이프릴(APRIL) 7th Mini Album 'Da Capo'\n",
      "51 Square (2017) 백예린 Every letter I sent you.\n",
      "52 FIESTA IZ*ONE(아이즈원) BLOOM*IZ\n",
      "53 너에게 난, 나에게 넌 미도와 파라솔 슬기로운 의사생활 OST Part 12\n",
      "54 그대 고운 내사랑 어반자카파 슬기로운 의사생활 OST Part 5\n",
      "55 i'M THE TREND (여자)아이들 i'M THE TREND\n",
      "56 Painkiller Ruel(루엘) Painkiller\n",
      "57 아무노래 지코 아무노래\n",
      "58 첫 줄 신용재 Dear\n",
      "59 어떻게 이별까지 사랑하겠어, 널 사랑하는 거지 AKMU (악동뮤지션) 항해\n",
      "60 Lonely Night 권진아 슬기로운 의사생활 OST Part 1\n",
      "61 깡 Official Remix 식케이 (Sik-K) 깡 Official Remix\n",
      "62 집돌이 폴킴(Paul Kim) 집돌이\n",
      "63 Birthday Anne-Marie(앤 마리) Birthday\n",
      "64 시작 가호(Gaho) 이태원 클라쓰 OST Part.2\n",
      "65 작사가 헤이즈(Heize) Lyricist\n",
      "66 돌덩이 하현우(국카스텐) 이태원 클라쓰 OST Part.3\n",
      "67 Stuck with U Ariana Grande(아리아나 그란데) Stuck with U\n",
      "68 모든 날, 모든 순간 (Every day, Every Moment) 폴킴(Paul Kim) '키스 먼저 할까요?' OST Part.3\n",
      "69 Dishes Lauv(라우브) Without You\n",
      "70 마음을 드려요 아이유(IU) 사랑의 불시착 OST Part 11\n",
      "71 오늘따라 비가 와서 그런가 봐 솔지 오늘따라 비가 와서 그런가 봐\n",
      "72 Love poem 아이유(IU) Love poem\n",
      "73 Let Me (Feat. Devin Morrison) Crush OHIO\n",
      "74 자나깨나 (Feat. 조이 of Red Velvet) Crush homemade 1\n",
      "75 Paris In The Rain Lauv(라우브) I met you when I was 18. (the playlist)\n",
      "76 내 눈물 모아 휘인(Whee In) 슬기로운 의사생활 OST Part 8\n",
      "77 썸 타긴 뭘 타 백아연 썸 타긴 뭘 타\n",
      "78 덤더럼(Dumhdurum) Apink (에이핑크) LOOK\n",
      "79 니가 왜 거기서 나와 (Narr. 고은아) 영탁 니가 왜 거기서 나와\n",
      "80 어떻게 지내 (답가) 런치 어떻게 지내 (답가)\n",
      "81 늦은 밤 너의 집 앞 골목길에서 노을 늦은 밤 너의 집 앞 골목길에서\n",
      "82 To Die For Sam Smith(샘 스미스) To Die For\n",
      "83 Blinding Lights The Weeknd(위켄드) Blinding Lights\n",
      "84 사계 (Four Seasons) 태연 (TAEYEON) 사계 (Four Seasons)\n",
      "85 밤편지 아이유(IU) 밤편지\n",
      "86 오늘도 빛나는 너에게 (To You My Light) (Feat.이라온) 마크툽(Maktub) Red Moon : To You My Light\n",
      "87 Zombie DAY6 (데이식스) The Book of Us : The Demon\n",
      "88 안녕 폴킴(Paul Kim) 호텔 델루나 OST Part.10\n",
      "89 작은 것들을 위한 시 (Boy With Luv) (Feat. Halsey) 방탄소년단 MAP OF THE SOUL : PERSONA\n",
      "90 거울의 방 여자친구(GFRIEND) 回:Song of the Sirens\n",
      "91 Simple is the best 정은지 Simple\n",
      "92 처음처럼 엠씨더맥스 (M.C the MAX) CEREMONIA\n",
      "93 no song without you HONNE(혼네) no song without you\n",
      "94 이제 나만 믿어요 임영웅 내일은 미스터트롯 우승자 특전곡\n",
      "95 그때 그 아인 김필(Kim Feel) 이태원 클라쓰 OST Part.6\n",
      "96 Stay Tonight 청하 Stay Tonight\n",
      "97 별이 온다 신용재 Dear\n",
      "98 HIP 마마무(Mamamoo) reality in BLACK\n",
      "99 주저하는 연인들을 위해 잔나비 전설\n",
      "100 Easy Troye Sivan(트로이 시반) Easy\n"
     ]
    },
    {
     "ename": "IndexError",
     "evalue": "list index out of range",
     "output_type": "error",
     "traceback": [
      "\u001b[1;31m---------------------------------------------------------------------------\u001b[0m",
      "\u001b[1;31mIndexError\u001b[0m                                Traceback (most recent call last)",
      "\u001b[1;32m<ipython-input-238-21a8c52b99db>\u001b[0m in \u001b[0;36m<module>\u001b[1;34m\u001b[0m\n\u001b[0;32m      6\u001b[0m \u001b[0mprint\u001b[0m\u001b[1;33m(\u001b[0m\u001b[0mlen\u001b[0m\u001b[1;33m(\u001b[0m\u001b[0mresult\u001b[0m\u001b[1;33m)\u001b[0m\u001b[1;33m)\u001b[0m\u001b[1;33m\u001b[0m\u001b[1;33m\u001b[0m\u001b[0m\n\u001b[0;32m      7\u001b[0m \u001b[1;32mfor\u001b[0m \u001b[0mi\u001b[0m \u001b[1;32min\u001b[0m \u001b[0mresult\u001b[0m\u001b[1;33m:\u001b[0m\u001b[1;33m\u001b[0m\u001b[1;33m\u001b[0m\u001b[0m\n\u001b[1;32m----> 8\u001b[1;33m     \u001b[0mrank\u001b[0m \u001b[1;33m=\u001b[0m \u001b[0mi\u001b[0m\u001b[1;33m.\u001b[0m\u001b[0mselect\u001b[0m\u001b[1;33m(\u001b[0m\u001b[1;34m'.ranking > strong'\u001b[0m\u001b[1;33m)\u001b[0m\u001b[1;33m[\u001b[0m\u001b[1;36m0\u001b[0m\u001b[1;33m]\u001b[0m\u001b[1;33m.\u001b[0m\u001b[0mstring\u001b[0m\u001b[1;33m\u001b[0m\u001b[1;33m\u001b[0m\u001b[0m\n\u001b[0m\u001b[0;32m      9\u001b[0m     \u001b[0mtitle\u001b[0m \u001b[1;33m=\u001b[0m \u001b[0mi\u001b[0m\u001b[1;33m.\u001b[0m\u001b[0mselect\u001b[0m\u001b[1;33m(\u001b[0m\u001b[1;34m\".title>a\"\u001b[0m\u001b[1;33m)\u001b[0m\u001b[1;33m[\u001b[0m\u001b[1;36m0\u001b[0m\u001b[1;33m]\u001b[0m\u001b[1;33m.\u001b[0m\u001b[0mstring\u001b[0m\u001b[1;33m\u001b[0m\u001b[1;33m\u001b[0m\u001b[0m\n\u001b[0;32m     10\u001b[0m     \u001b[0martist2\u001b[0m \u001b[1;33m=\u001b[0m \u001b[0mi\u001b[0m\u001b[1;33m.\u001b[0m\u001b[0mselect\u001b[0m\u001b[1;33m(\u001b[0m\u001b[1;34m\".artist>a\"\u001b[0m\u001b[1;33m)\u001b[0m\u001b[1;33m[\u001b[0m\u001b[1;36m0\u001b[0m\u001b[1;33m]\u001b[0m\u001b[1;33m.\u001b[0m\u001b[0mstring\u001b[0m\u001b[1;33m\u001b[0m\u001b[1;33m\u001b[0m\u001b[0m\n",
      "\u001b[1;31mIndexError\u001b[0m: list index out of range"
     ]
    }
   ],
   "source": [
    "req = requests.get(url2)\n",
    "html = req.text\n",
    "soup = BeautifulSoup(html, 'html.parser')\n",
    "result = soup.select('tbody>tr')\n",
    "list = []\n",
    "print(len(result))\n",
    "for i in result:\n",
    "    rank = i.select('.ranking > strong')[0].string\n",
    "    title = i.select(\".title>a\")[0].string\n",
    "    artist2 = i.select(\".artist>a\")[0].string\n",
    "    album = i.select(\"td>a.album\")[0].string\n",
    "    print(rank+\" \"+title+ \" \" + artist2 + \" \" + album)"
   ]
  },
  {
   "cell_type": "code",
   "execution_count": 173,
   "metadata": {},
   "outputs": [
    {
     "data": {
      "text/plain": [
       "True"
      ]
     },
     "execution_count": 173,
     "metadata": {},
     "output_type": "execute_result"
    }
   ],
   "source": [
    "len(album) == len(title)"
   ]
  },
  {
   "cell_type": "code",
   "execution_count": 174,
   "metadata": {},
   "outputs": [
    {
     "data": {
      "text/plain": [
       "104"
      ]
     },
     "execution_count": 174,
     "metadata": {},
     "output_type": "execute_result"
    }
   ],
   "source": [
    "len(artist2)"
   ]
  },
  {
   "cell_type": "code",
   "execution_count": 180,
   "metadata": {},
   "outputs": [],
   "source": [
    "artist = []\n",
    "for i in artist2:\n",
    "    if i['title']!='아티스트 전체보기':\n",
    "        artist.append(i['title'])"
   ]
  },
  {
   "cell_type": "code",
   "execution_count": 179,
   "metadata": {},
   "outputs": [
    {
     "data": {
      "text/plain": [
       "True"
      ]
     },
     "execution_count": 179,
     "metadata": {},
     "output_type": "execute_result"
    }
   ],
   "source": [
    "len(artist) == len(title)"
   ]
  },
  {
   "cell_type": "code",
   "execution_count": 16,
   "metadata": {},
   "outputs": [],
   "source": [
    "url3 = \"https://news.naver.com/\""
   ]
  },
  {
   "cell_type": "code",
   "execution_count": 17,
   "metadata": {},
   "outputs": [],
   "source": [
    "req = requests.get(url3)\n",
    "html = req.text\n",
    "soup = BeautifulSoup(html, 'html.parser')\n",
    "result = soup.select('div.section_wide')[0]\n",
    "rank = soup.select('ul.section_list_ranking>li>a')"
   ]
  },
  {
   "cell_type": "code",
   "execution_count": 27,
   "metadata": {},
   "outputs": [],
   "source": [
    "title, article = [], []\n",
    "for i in rank:\n",
    "    title.append(i['title'])\n",
    "    req = requests.get('https://news.naver.com'+i['href'])\n",
    "    html = req.text\n",
    "    soup = BeautifulSoup(html, 'html.parser')\n",
    "    section = soup.select('div#articleBodyContents')\n",
    "    article.append(section[0].text.strip('\\n'))"
   ]
  },
  {
   "cell_type": "code",
   "execution_count": 28,
   "metadata": {},
   "outputs": [
    {
     "name": "stdout",
     "output_type": "stream",
     "text": [
      "60\n",
      "60\n"
     ]
    }
   ],
   "source": [
    "print(len(title))\n",
    "print(len(article))"
   ]
  },
  {
   "cell_type": "code",
   "execution_count": 31,
   "metadata": {},
   "outputs": [
    {
     "name": "stdout",
     "output_type": "stream",
     "text": [
      "// flash 오류를 우회하기 위한 함수 추가\n",
      "function _flash_removeCallback() {}\n",
      "\n",
      "\t\n",
      "\t[경향신문] 이재명 경기도지사는 16일 “고맙다. 여러분과 함께 흔들림 없이 나아가겠다”고 말했다.이 지사는 이날 ‘친형 강제입원’과 관련한 허위사실 공표 혐의에 대해 무죄 취지의 대법원 판결이 나온 뒤 페이스북을 통해 이같이 밝혔다.‘친형 강제입원’과 관련한 허위사실 공표 혐의 사건에 대한 대법원 선고일인 16일 오전 이재명 경기도지사가 경기도 수원시 경기도청으로 출근하며 인사하고 있다. 연합뉴스이 지사는 “공정하고 올바른 판단을 내려주신 대법원에 감사드린다. 거짓이 진실을 이길 수 없다는 믿음, 정의에 대한 믿음을 다시 한 번 확인해주셨다”고 말했다.이 지사는 “걱정을 덜어드리기는커녕 심려를 끼쳐드리게 되어 도민 여러분과 지지자, 민주당 당원 동지 여러분께 내내 송구한 마음”이라며 “그럼에도 함께 염려하고 아파하며 끝까지 믿고 기다려주셔서 참으로 고맙다”고 말했다. 이 지사는 “곁에서 가장 많이 마음 고생한 아내와 가족들에게도 미안함과 고마움을 전한다. 함께할 앞으로의 시간 동안 사랑과 감사 더 많이 표현하며 살겠다”고 했다. 이어 “어머니는 이 결과를 보지 못하고 지난 3월13일 생을 마감하셨다. 마지막 순간까지 마음 속 한을 풀지 못하고 눈을 감으셨다. 애증의 관계로 얼룩진 셋째형도 이미 이 세상 사람이 아니다”며 “저희 가족의 아픔은 고스란히 저의 부족함 때문이다. 남은 삶 동안 그 아픔을 짊어지고 살아갈 것이다. 더 이상 저의 가족사가 공적인 의제가 되지 않기를 간절히 바란다. 저희 가족들에게 너무나 잔인한 일”이라고 했다.이 지사는 마지막으로 “오늘의 결과는 제게 주어진 사명을 다하라는 여러분의 명령임을 잊지 않겠다. 제게 주어진 책임의 시간을 한 순간도 소홀히 하지 않겠다”며 “공정한 세상, 함께 사는 ‘대동세상’의 염원을 실현하기 위해 여러분과 함께 흔들림 없이 한 걸음 한 걸음 나아가겠다”고 말했다. 아래는 페이스북 메시지 전문.고맙습니다. 여러분과 함께 흔들림 없이 나아가겠습니다.돌아보면 감사한 일뿐이었습니다. 지금 여기서 숨쉬는 것조차 얼마나 감사한지 새삼 깨달았습니다.공정하고 올바른 판단을 내려주신 대법원에 감사드립니다. 거짓이 진실을 이길 수 없다는 믿음, 정의에 대한 믿음을 다시 한 번 확인해주셨습니다.걱정을 덜어드리기는커녕 심려를 끼쳐드리게 되어 도민 여러분과 지지자, 민주당 당원 동지 여러분께 내내 송구한 마음입니다. 그럼에도 함께 염려하고 아파하며 끝까지 믿고 기다려주셔서 참으로 고맙습니다. 힘들고 고통스러운 고비마다 저를 일으켜준 여러분이 계셨기에 진실 앞에서 끝까지 포기하지 않고 오늘까지 올 수 있었습니다.곁에서 가장 많이 마음 고생한 아내와 가족들에게도 미안함과 고마움을 전합니다. 함께할 앞으로의 시간 동안 사랑과 감사 더 많이 표현하며 살겠습니다.어머니는 이 결과를 보지 못하고 지난 3월13일 생을 마감하셨습니다. 마지막 순간까지 마음 속 한을 풀지 못하고 눈을 감으셨습니다. 애증의 관계로 얼룩진 셋째형도 이미 이 세상 사람이 아닙니다. 저희 가족의 아픔은 고스란히 저의 부족함 때문입니다. 남은 삶 동안 그 아픔을 짊어지고 살아갈 것입니다. 더 이상 저의 가족사가 공적인 의제가 되지 않기를 간절히 바랍니다. 저희 가족들에게 너무나 잔인한 일입니다.흔들림 없이 도정을 챙겨온 경기도 공직자 여러분께도 감사드립니다. 저와 경기도를 향한 외부의 왜곡과 음해가 극에 달했을 때에도 우리 공직자 여러분께선 한결같이 도정에만 집중해주셨습니다. 진정한 도민의 일꾼인 여러분과 계속해 일할 수 있다는 것이 무엇보다 기쁩니다.계속 일할 기회가 주어진 것에 대한 감사함 만큼 무거운 책임감이 어깨를 누릅니다.여전히 코로나19는 우리 삶을 통째로 바꾼 채 위협을 거듭하고 있습니다. 경제난에 하루하루를 버티고 있는 소시민들의 고통은 그 무엇과도 비견할 수 없을 만큼 크고 깊습니다. 불공정, 불합리, 불평등에서 생기는 이익과 불로소득이 권력이자 계급이 되어 버린 이 사회를 바꾸지 않고서는 그 어떤 희망도 없습니다.여러분 앞에 겸허한 마음으로 다짐합니다. 오늘의 결과는 제게 주어진 사명을 다하라는 여러분의 명령임을 잊지 않겠습니다. 제게 주어진 책임의 시간을 한 순간도 소홀히 하지 않겠습니다. 공정한 세상, 함께 사는 ‘대동세상’의 염원을 실현하기 위해 여러분과 함께 흔들림 없이 한 걸음 한 걸음 나아가겠습니다. 저를 기다리고 지켜주신 모든 분들께 다시 한 번 마음 깊이 감사드립니다.김지환 기자 baldkim@kyunghyang.com▶ 장도리 | 그림마당 보기▶ 경향신문 바로가기▶ 경향신문 구독신청하기©경향신문(www.khan.co.kr), 무단전재 및 재배포 금지\n"
     ]
    }
   ],
   "source": [
    "print(article[0])"
   ]
  },
  {
   "cell_type": "code",
   "execution_count": null,
   "metadata": {},
   "outputs": [],
   "source": []
  }
 ],
 "metadata": {
  "kernelspec": {
   "display_name": "Python 3",
   "language": "python",
   "name": "python3"
  },
  "language_info": {
   "codemirror_mode": {
    "name": "ipython",
    "version": 3
   },
   "file_extension": ".py",
   "mimetype": "text/x-python",
   "name": "python",
   "nbconvert_exporter": "python",
   "pygments_lexer": "ipython3",
   "version": "3.7.6"
  }
 },
 "nbformat": 4,
 "nbformat_minor": 4
}
