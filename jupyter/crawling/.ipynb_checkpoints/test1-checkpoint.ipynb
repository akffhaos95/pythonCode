{
 "cells": [
  {
   "cell_type": "code",
   "execution_count": 4,
   "metadata": {},
   "outputs": [],
   "source": [
    "import requests"
   ]
  },
  {
   "cell_type": "code",
   "execution_count": 6,
   "metadata": {},
   "outputs": [],
   "source": [
    "r = requests.get('https://api.github.com/events')"
   ]
  },
  {
   "cell_type": "code",
   "execution_count": 7,
   "metadata": {},
   "outputs": [
    {
     "data": {
      "text/plain": [
       "<Response [200]>"
      ]
     },
     "execution_count": 7,
     "metadata": {},
     "output_type": "execute_result"
    }
   ],
   "source": [
    "r"
   ]
  },
  {
   "cell_type": "code",
   "execution_count": 15,
   "metadata": {},
   "outputs": [],
   "source": [
    "s = requests.get('https://www.naver.com')"
   ]
  },
  {
   "cell_type": "code",
   "execution_count": 17,
   "metadata": {},
   "outputs": [],
   "source": [
    "payload = {'key1': 'value1', 'key2': 'value2'}\n",
    "r = requests.get('https://httpbin.org/get', params=payload)"
   ]
  },
  {
   "cell_type": "code",
   "execution_count": 18,
   "metadata": {},
   "outputs": [
    {
     "data": {
      "text/plain": [
       "<Response [200]>"
      ]
     },
     "execution_count": 18,
     "metadata": {},
     "output_type": "execute_result"
    }
   ],
   "source": [
    "r"
   ]
  },
  {
   "cell_type": "code",
   "execution_count": 19,
   "metadata": {},
   "outputs": [
    {
     "data": {
      "text/plain": [
       "'https://httpbin.org/get?key1=value1&key2=value2'"
      ]
     },
     "execution_count": 19,
     "metadata": {},
     "output_type": "execute_result"
    }
   ],
   "source": [
    "r.url"
   ]
  },
  {
   "cell_type": "code",
   "execution_count": 20,
   "metadata": {},
   "outputs": [
    {
     "data": {
      "text/plain": [
       "'{\\n  \"args\": {\\n    \"key1\": \"value1\", \\n    \"key2\": \"value2\"\\n  }, \\n  \"headers\": {\\n    \"Accept\": \"*/*\", \\n    \"Accept-Encoding\": \"gzip, deflate\", \\n    \"Host\": \"httpbin.org\", \\n    \"User-Agent\": \"python-requests/2.22.0\", \\n    \"X-Amzn-Trace-Id\": \"Root=1-5f0f9f3b-1213812140dc4d13d3255c48\"\\n  }, \\n  \"origin\": \"1.221.125.150\", \\n  \"url\": \"https://httpbin.org/get?key1=value1&key2=value2\"\\n}\\n'"
      ]
     },
     "execution_count": 20,
     "metadata": {},
     "output_type": "execute_result"
    }
   ],
   "source": [
    "r.text"
   ]
  },
  {
   "cell_type": "code",
   "execution_count": 26,
   "metadata": {},
   "outputs": [],
   "source": [
    "r = requests.get('http://127.0.0.1:5000/')"
   ]
  },
  {
   "cell_type": "code",
   "execution_count": 27,
   "metadata": {},
   "outputs": [
    {
     "data": {
      "text/plain": [
       "<Response [200]>"
      ]
     },
     "execution_count": 27,
     "metadata": {},
     "output_type": "execute_result"
    }
   ],
   "source": [
    "r"
   ]
  },
  {
   "cell_type": "code",
   "execution_count": 29,
   "metadata": {},
   "outputs": [
    {
     "data": {
      "text/plain": [
       "'utf-8'"
      ]
     },
     "execution_count": 29,
     "metadata": {},
     "output_type": "execute_result"
    }
   ],
   "source": [
    "r.encoding"
   ]
  },
  {
   "cell_type": "code",
   "execution_count": 48,
   "metadata": {},
   "outputs": [
    {
     "name": "stdout",
     "output_type": "stream",
     "text": [
      "Object `search.naver` not found.\n"
     ]
    }
   ],
   "source": [
    "https://search.naver.com/search.naver?sm=tab_hty.top&where=nexearch&query=test&oquery=tes&tqi=Uw%2BmAwprvh8sscObLJdssssstLK-380332"
   ]
  },
  {
   "cell_type": "code",
   "execution_count": null,
   "metadata": {},
   "outputs": [],
   "source": [
    "https://search.naver.com/search.naver"
   ]
  },
  {
   "cell_type": "code",
   "execution_count": 49,
   "metadata": {},
   "outputs": [],
   "source": [
    "query = {'sm':'tab_hty.top','where':'nexearch','query':'test','oquery':'tes','tqi':'Uw%2BmAwprvh8sscObLJdssssstLK-380332'}"
   ]
  },
  {
   "cell_type": "code",
   "execution_count": 50,
   "metadata": {},
   "outputs": [],
   "source": [
    "r = requests.get('https://search.naver.com/search.naver?',params=query)"
   ]
  },
  {
   "cell_type": "code",
   "execution_count": 38,
   "metadata": {},
   "outputs": [
    {
     "data": {
      "text/plain": [
       "'https://search.naver.com/search.naver?sm=tab_hty.top&where=nexearch&query=test&oquery=tes&tqi=Uw%252BmAwprvh8sscObLJdssssstLK-380332'"
      ]
     },
     "execution_count": 38,
     "metadata": {},
     "output_type": "execute_result"
    }
   ],
   "source": [
    "r.url"
   ]
  },
  {
   "cell_type": "code",
   "execution_count": 39,
   "metadata": {},
   "outputs": [],
   "source": [
    "r = requests.get('http://blogfiles.naver.net/20150408_286/0991k_1428470688836ohxzn_JPEG/%B9%AB%B9%CE%B9%E8%B0%E6%C8%AD%B8%E9.jpg')"
   ]
  },
  {
   "cell_type": "code",
   "execution_count": 51,
   "metadata": {},
   "outputs": [
    {
     "data": {
      "text/plain": [
       "<Response [200]>"
      ]
     },
     "execution_count": 51,
     "metadata": {},
     "output_type": "execute_result"
    }
   ],
   "source": [
    "r"
   ]
  },
  {
   "cell_type": "code",
   "execution_count": 54,
   "metadata": {},
   "outputs": [],
   "source": [
    "r = requests.get(\"http://127.0.0.1:5000/list\")"
   ]
  },
  {
   "cell_type": "code",
   "execution_count": 55,
   "metadata": {},
   "outputs": [
    {
     "data": {
      "text/plain": [
       "'<!doctype html>\\n<html lang=\"en\">\\n  <head>\\n    <!-- Required meta tags -->\\n<meta charset=\"utf-8\">\\n<meta name=\"viewport\" content=\"width=device-width, initial-scale=1, shrink-to-fit=no\">\\n<!-- Bootstrap CSS -->\\n<link href=\"https://fonts.googleapis.com/css2?family=Cute+Font&display=swap\" rel=\"stylesheet\">\\n<link rel=\"stylesheet\" href=\"https://stackpath.bootstrapcdn.com/bootstrap/4.2.1/css/bootstrap.min.css\" integrity=\"sha384-GJzZqFGwb1QTTN6wy59ffF1BuGJpLSa9DkKMp0DgiMDm4iYMj70gZWKYbI706tWS\" crossorigin=\"anonymous\">\\n<link href=\"https://fonts.googleapis.com/css?family=Do+Hyeon\" rel=\"stylesheet\">\\n<script src=\"https://code.jquery.com/jquery-3.3.1.slim.min.js\" integrity=\"sha384-q8i/X+965DzO0rT7abK41JStQIAqVgRVzpbzo5smXKp4YfRvH+8abtTE1Pi6jizo\" crossorigin=\"anonymous\"></script>\\n<script src=\"https://cdnjs.cloudflare.com/ajax/libs/popper.js/1.14.6/umd/popper.min.js\" integrity=\"sha384-wHAiFfRlMFy6i5SRaxvfOCifBUQy1xHdJ/yoi7FRNXMRBu5WHdZYu1hA6ZOblgut\" crossorigin=\"anonymous\"></script>\\n<script src=\"https://stackpath.bootstrapcdn.com/bootstrap/4.2.1/js/bootstrap.min.js\" integrity=\"sha384-B0UglyR+jN6CkvvICOB2joaf5I4l3gm9GU6Hc1og6Ls7i6U/mkkaduKaBhlAXv9k\" crossorigin=\"anonymous\"></script>\\n    <title>Hello, world!</title>\\n  </head>\\n  <body>\\n    \\n        <nav class=\"navbar navbar-dark bg-dark\">\\n                <a class=\"navbar-brand\" href=\"/\">\\n                  <img src=\"/static/img/swimming.png\" width=\"30\" height=\"30\" class=\"d-inline-block align-top\" alt=\"\">\\n                  Bootstrap\\n                </a>\\n                <button class=\"navbar-toggler\" type=\"button\" data-toggle=\"collapse\" data-target=\"#navbarNavDropdown\" aria-controls=\"navbarNavDropdown\" aria-expanded=\"false\" aria-label=\"Toggle navigation\">\\n                        <span class=\"navbar-toggler-icon\"></span>\\n                      </button>\\n                      <div class=\"collapse navbar-collapse\" id=\"navbarNavDropdown\">\\n                        <ul class=\"navbar-nav\">\\n                          <li class=\"nav-item active\">\\n                            <a class=\"nav-link\" href=\"/bootstrap\">Home <span class=\"sr-only\">(current)</span></a>\\n                          </li>\\n                          <li class=\"nav-item\">\\n                            <a class=\"nav-link\" href=\"/usersform\">입력폼</a>\\n                          </li>\\n                          <li class=\"nav-item\">\\n                            <a class=\"nav-link\" href=\"/list\">회원리스트</a>\\n                          </li>\\n                          <li class=\"nav-item\">\\n                              <a class=\"nav-link\" href=\"/ajaxlist\">회원검색리스트</a>\\n                            </li>\\n                          <li class=\"nav-item\">\\n                            <a class=\"nav-link\" href=\"/imglist\">이미지갤러리</a>\\n                          </li>\\n                          <li class=\"nav-item dropdown\">\\n                            <a class=\"nav-link dropdown-toggle\" href=\"#\" id=\"navbarDropdownMenuLink\" role=\"button\" data-toggle=\"dropdown\" aria-haspopup=\"true\" aria-expanded=\"false\">\\n                              Dropdown link\\n                            </a>\\n                            <div class=\"dropdown-menu\" aria-labelledby=\"navbarDropdownMenuLink\">\\n                              <a class=\"dropdown-item\" href=\"#\">Action</a>\\n                              <a class=\"dropdown-item\" href=\"#\">Another action</a>\\n                              <a class=\"dropdown-item\" href=\"#\">Something else here</a>\\n                            </div>\\n                          </li>\\n                        </ul>\\n                      </div>\\n        </nav>\\n    <br>       \\n    <h1 align=\"center\">회원목록 리스트</h1>\\n    <div class=\"container-fluid\">\\n        <table class=\"table table-hover table-dark\">\\n            <thead>\\n              <tr>\\n                <th scope=\"col\">아이디</th>\\n                <th scope=\"col\">패스워드</th>\\n                <th scope=\"col\">이름</th>\\n                <th scope=\"col\">나이</th>\\n                <th scope=\"col\">메일주소</th>\\n                <th scope=\"col\">주소</th>\\n                <th scope=\"col\">성별</th>\\n                <th scope=\"col\">전화번호</th>\\n              </tr>\\n            </thead>\\n            \\n            <tbody>\\n              \\n              <tr>\\n                <td><a href=\"/content/asdf\">asdf</a></td>\\n                <td>asdf</td>\\n                <td>asdf</td>\\n                <td>123</td>\\n                <td>asdfasdf@asdf</td>\\n                <td>asdfasdf</td>\\n                <td>male</td>\\n                <td>asdfasdf</td>\\n              </tr>\\n              \\n              <tr>\\n                <td><a href=\"/content/qwer\">qwer</a></td>\\n                <td>qwerqwer</td>\\n                <td>qwerqwer</td>\\n                <td>13</td>\\n                <td>qwerqwer@qwerqw</td>\\n                <td>qwerqwer</td>\\n                <td>male</td>\\n                <td>qweqwerw</td>\\n              </tr>\\n              \\n              <tr>\\n                <td><a href=\"/content/qwerqwey\">qwerqwey</a></td>\\n                <td>128374982317</td>\\n                <td>qqwerwioeur</td>\\n                <td>321</td>\\n                <td>qewuiorwqu@qwuyeiqw</td>\\n                <td>qwuieyqwiuey</td>\\n                <td>male</td>\\n                <td>qweyqyeiu</td>\\n              </tr>\\n              \\n              <tr>\\n                <td><a href=\"/content/zxcv\">zxcv</a></td>\\n                <td>zxcv</td>\\n                <td>zxcvgzxcv</td>\\n                <td>123</td>\\n                <td>zxcvzxcv@zxcvzxc</td>\\n                <td>zxcvzxcvzx</td>\\n                <td>male</td>\\n                <td>zxcvzxcvzxcv</td>\\n              </tr>\\n              \\n              </tbody>\\n          </table>\\n    </div>\\n   </body>\\n</html>'"
      ]
     },
     "execution_count": 55,
     "metadata": {},
     "output_type": "execute_result"
    }
   ],
   "source": [
    "r.text"
   ]
  },
  {
   "cell_type": "code",
   "execution_count": 63,
   "metadata": {},
   "outputs": [],
   "source": [
    "url = 'https://api.github.com/some/endpoint'\n",
    "headers = {'user-agent': 'my-app/0.0.1'}\n",
    "\n",
    "r = requests.get(url, headers=headers)"
   ]
  },
  {
   "cell_type": "code",
   "execution_count": 64,
   "metadata": {},
   "outputs": [
    {
     "data": {
      "text/plain": [
       "'{\"message\":\"Not Found\",\"documentation_url\":\"https://developer.github.com/v3\"}'"
      ]
     },
     "execution_count": 64,
     "metadata": {},
     "output_type": "execute_result"
    }
   ],
   "source": [
    "r.text"
   ]
  },
  {
   "cell_type": "code",
   "execution_count": 66,
   "metadata": {},
   "outputs": [
    {
     "data": {
      "text/plain": [
       "'https://api.github.com/some/endpoint'"
      ]
     },
     "execution_count": 66,
     "metadata": {},
     "output_type": "execute_result"
    }
   ],
   "source": [
    "r.url"
   ]
  },
  {
   "cell_type": "code",
   "execution_count": 67,
   "metadata": {},
   "outputs": [
    {
     "data": {
      "text/plain": [
       "{'date': 'Thu, 16 Jul 2020 01:14:03 GMT', 'content-type': 'application/json; charset=utf-8', 'server': 'GitHub.com', 'status': '404 Not Found', 'x-github-media-type': 'github.v3; format=json', 'access-control-expose-headers': 'ETag, Link, Location, Retry-After, X-GitHub-OTP, X-RateLimit-Limit, X-RateLimit-Remaining, X-RateLimit-Reset, X-OAuth-Scopes, X-Accepted-OAuth-Scopes, X-Poll-Interval, X-GitHub-Media-Type, Deprecation, Sunset', 'access-control-allow-origin': '*', 'strict-transport-security': 'max-age=31536000; includeSubdomains; preload', 'x-frame-options': 'deny', 'x-content-type-options': 'nosniff', 'x-xss-protection': '1; mode=block', 'referrer-policy': 'origin-when-cross-origin, strict-origin-when-cross-origin', 'content-security-policy': \"default-src 'none'\", 'vary': 'Accept-Encoding, Accept, X-Requested-With', 'content-encoding': 'gzip', 'X-Ratelimit-Limit': '60', 'X-Ratelimit-Remaining': '34', 'X-Ratelimit-Reset': '1594864933', 'Content-Length': '96', 'X-GitHub-Request-Id': 'F87D:132E:E1A3:14EF6:5F0FA9DA'}"
      ]
     },
     "execution_count": 67,
     "metadata": {},
     "output_type": "execute_result"
    }
   ],
   "source": [
    "r.headers"
   ]
  },
  {
   "cell_type": "code",
   "execution_count": 73,
   "metadata": {},
   "outputs": [
    {
     "name": "stdout",
     "output_type": "stream",
     "text": [
      "[{\"userid\":\"qwer\",\"userpw\":\"qwerqwer\",\"username\":\"qwerqwer\",\"userage\":13,\"usermail\":\"qwerqwer@qwerqw\",\"useradd\":\"qwerqwer\",\"usergender\":\"male\",\"usertel\":\"qweqwerw\"},{\"userid\":\"qwerqwey\",\"userpw\":\"128374982317\",\"username\":\"qqwerwioeur\",\"userage\":321,\"usermail\":\"qewuiorwqu@qwuyeiqw\",\"useradd\":\"qwuieyqwiuey\",\"usergender\":\"male\",\"usertel\":\"qweyqyeiu\"}]\n"
     ]
    }
   ],
   "source": [
    "payload = {'userid': 'q'}\n",
    "r = requests.post(\"http://127.0.0.1:5000/ajaxlist\", data=payload)\n",
    "print(r.text)"
   ]
  },
  {
   "cell_type": "code",
   "execution_count": 106,
   "metadata": {},
   "outputs": [],
   "source": [
    "import json"
   ]
  },
  {
   "cell_type": "code",
   "execution_count": 108,
   "metadata": {},
   "outputs": [],
   "source": [
    "url = 'https://api.github.com/some/endpoint'\n",
    "payload = {'some':'data'}\n",
    "r = requests.post(url, data=json.dumps(payload))"
   ]
  },
  {
   "cell_type": "code",
   "execution_count": 110,
   "metadata": {},
   "outputs": [
    {
     "data": {
      "text/plain": [
       "'{\"message\":\"Not Found\",\"documentation_url\":\"https://developer.github.com/v3\"}'"
      ]
     },
     "execution_count": 110,
     "metadata": {},
     "output_type": "execute_result"
    }
   ],
   "source": [
    "r.text"
   ]
  },
  {
   "cell_type": "code",
   "execution_count": 121,
   "metadata": {},
   "outputs": [],
   "source": [
    "url = 'http://127.0.0.1:5000/ajaxlist'\n",
    "payload = {'userid':'asdf'}\n",
    "r = requests.post(url, json=payload)"
   ]
  },
  {
   "cell_type": "code",
   "execution_count": 122,
   "metadata": {},
   "outputs": [
    {
     "data": {
      "text/plain": [
       "'{\\n  \"args\": {}, \\n  \"data\": \"\", \\n  \"files\": {\\n    \"file\": \"\"\\n  }, \\n  \"form\": {}, \\n  \"headers\": {\\n    \"Accept\": \"*/*\", \\n    \"Accept-Encoding\": \"gzip, deflate\", \\n    \"Content-Length\": \"144\", \\n    \"Content-Type\": \"multipart/form-data; boundary=f89d0dc3e55e8b16605f7a7fec9b78e5\", \\n    \"Host\": \"httpbin.org\", \\n    \"User-Agent\": \"python-requests/2.22.0\", \\n    \"X-Amzn-Trace-Id\": \"Root=1-5f0fb18a-247c1ac303cf4832c231f205\"\\n  }, \\n  \"json\": null, \\n  \"origin\": \"1.221.125.150\", \\n  \"url\": \"https://httpbin.org/post\"\\n}\\n'"
      ]
     },
     "execution_count": 122,
     "metadata": {},
     "output_type": "execute_result"
    }
   ],
   "source": [
    "url = 'https://httpbin.org/post'\n",
    "files = {'file': open('text.txt', 'rb')}\n",
    "\n",
    "r = requests.post(url, files=files)\n",
    "r.text"
   ]
  },
  {
   "cell_type": "code",
   "execution_count": 123,
   "metadata": {},
   "outputs": [
    {
     "data": {
      "text/plain": [
       "<Response [200]>"
      ]
     },
     "execution_count": 123,
     "metadata": {},
     "output_type": "execute_result"
    }
   ],
   "source": [
    "r"
   ]
  },
  {
   "cell_type": "code",
   "execution_count": 124,
   "metadata": {},
   "outputs": [
    {
     "data": {
      "text/plain": [
       "200"
      ]
     },
     "execution_count": 124,
     "metadata": {},
     "output_type": "execute_result"
    }
   ],
   "source": [
    "r.status_code"
   ]
  },
  {
   "cell_type": "code",
   "execution_count": 126,
   "metadata": {},
   "outputs": [
    {
     "data": {
      "text/plain": [
       "404"
      ]
     },
     "execution_count": 126,
     "metadata": {},
     "output_type": "execute_result"
    }
   ],
   "source": [
    "requests.codes.not_found"
   ]
  },
  {
   "cell_type": "code",
   "execution_count": 127,
   "metadata": {},
   "outputs": [
    {
     "data": {
      "text/plain": [
       "{'Date': 'Thu, 16 Jul 2020 01:46:50 GMT', 'Content-Type': 'application/json', 'Content-Length': '506', 'Connection': 'keep-alive', 'Server': 'gunicorn/19.9.0', 'Access-Control-Allow-Origin': '*', 'Access-Control-Allow-Credentials': 'true'}"
      ]
     },
     "execution_count": 127,
     "metadata": {},
     "output_type": "execute_result"
    }
   ],
   "source": [
    "r.headers"
   ]
  },
  {
   "cell_type": "raw",
   "metadata": {},
   "source": [
    "r = requests.get(url)"
   ]
  },
  {
   "cell_type": "code",
   "execution_count": 135,
   "metadata": {},
   "outputs": [],
   "source": [
    "from urllib import request"
   ]
  },
  {
   "cell_type": "code",
   "execution_count": 136,
   "metadata": {},
   "outputs": [
    {
     "data": {
      "text/plain": [
       "<http.client.HTTPResponse at 0x21a215cec48>"
      ]
     },
     "execution_count": 136,
     "metadata": {},
     "output_type": "execute_result"
    }
   ],
   "source": [
    "urllib.request.urlopen('https://www.naver.com')"
   ]
  },
  {
   "cell_type": "code",
   "execution_count": 137,
   "metadata": {},
   "outputs": [
    {
     "name": "stdout",
     "output_type": "stream",
     "text": [
      "<bound method HTTPResponse.read of <http.client.HTTPResponse object at 0x0000021A21670E48>>\n"
     ]
    }
   ],
   "source": [
    "with request.urlopen('http://python.org') as r:\n",
    "    the_page = r.read\n",
    "    print(the_page)"
   ]
  },
  {
   "cell_type": "code",
   "execution_count": 139,
   "metadata": {},
   "outputs": [],
   "source": [
    "import urllib.parse\n",
    "import urllib.request"
   ]
  },
  {
   "cell_type": "code",
   "execution_count": 140,
   "metadata": {},
   "outputs": [],
   "source": [
    "url = 'https://search.naver.com/search.naver'"
   ]
  },
  {
   "cell_type": "code",
   "execution_count": null,
   "metadata": {},
   "outputs": [],
   "source": [
    "values = [{'sm':'tab_hty.top','where':'nexearch','query':'날씨']"
   ]
  }
 ],
 "metadata": {
  "kernelspec": {
   "display_name": "Python 3",
   "language": "python",
   "name": "python3"
  },
  "language_info": {
   "codemirror_mode": {
    "name": "ipython",
    "version": 3
   },
   "file_extension": ".py",
   "mimetype": "text/x-python",
   "name": "python",
   "nbconvert_exporter": "python",
   "pygments_lexer": "ipython3",
   "version": "3.7.6"
  }
 },
 "nbformat": 4,
 "nbformat_minor": 4
}
