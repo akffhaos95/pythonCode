{
 "cells": [
  {
   "cell_type": "code",
   "execution_count": 7,
   "metadata": {},
   "outputs": [],
   "source": [
    "import urllib\n",
    "import requests\n",
    "from bs4 import BeautifulSoup"
   ]
  },
  {
   "cell_type": "code",
   "execution_count": 13,
   "metadata": {},
   "outputs": [
    {
     "name": "stdout",
     "output_type": "stream",
     "text": [
      "나만의 웹 크롤러 만들기(4): Django로 크롤링한 데이터 저장하기\n",
      "나만의 웹 크롤러 만들기(3): Selenium으로 무적 크롤러 만들기\n",
      "Django에 Social Login 붙이기: Django세팅부터 Facebook/Google 개발 설정까지\n",
      "Django에 Custom인증 붙이기\n",
      "나만의 웹 크롤러 만들기(2): Login with Session\n",
      "나만의 웹 크롤러 만들기 with Requests/BeautifulSoup\n",
      "Celery로 TelegramBot 알림 보내기\n",
      "Virtualenv/VirtualenvWrapper OS별 설치&이용법\n",
      "[DjangoTDDStudy] #02: UnitTest 이용해 기능 테스트 하기\n",
      "[DjangoTDDStudy] #01: 개발환경 세팅하기(Selenium / ChromeDriver)\n",
      "[DjangoTDDStudy] #00: 스터디를 시작하며\n",
      "Fabric Put 커맨드가 No Such File Exception을 반환할 때 해결법\n",
      "CKEditor의 라이센스와 오픈소스 라이센스\n",
      "ReactNative The Basis 번역을 끝냈습니다.\n",
      "[React Native 번역]#01: 시작하기\n",
      "[번역] 장고(Django)와 함께하는 Celery 첫걸음\n",
      "Chrome Native Adblockr 대체하기\n",
      "CustoMac 설치 분투기\n",
      "Ubuntu14.04에 OhMyZsh 설치\n",
      "Ubuntu14.04에서 pip로 mysqlclient 설치 실패시\n",
      "Ubuntu14.04에서 Python3기반 virtualenvwrapper 설치\n",
      "mac OS X에서 pip virtualenvwrapper 설치 시 uninstalling six 에서 Exception 발생 시\n",
      "Fabric for Python3 (Fabric3)\n",
      "Windows에서 pip로 mysqlclient 설치 실패시(python3.4/3.5)\n",
      "맥에서 윈도RDP로 접속시 한영전환하기.\n",
      "pip로 mysqlclient설치 중 mac os x에서 egg_info / OSError 발생시 대처방법\n"
     ]
    }
   ],
   "source": [
    "req = requests.get('https://beomi.github.io/beomi.github.io_old/')\n",
    "## HTML 소스 가져오기\n",
    "html = req.text\n",
    "soup = BeautifulSoup(html, 'html.parser')\n",
    "my_titles = soup.select('h3 > a')\n",
    "for title in my_titles:\n",
    "    print(title.text)"
   ]
  },
  {
   "cell_type": "code",
   "execution_count": 15,
   "metadata": {},
   "outputs": [
    {
     "data": {
      "text/plain": [
       "['body', 'strikeout']"
      ]
     },
     "execution_count": 15,
     "metadata": {},
     "output_type": "execute_result"
    }
   ],
   "source": [
    "css_soup = BeautifulSoup('<p class=\"body\"></p>')\n",
    "css_soup.p['class']\n",
    "# [\"body\"]\n",
    "\n",
    "css_soup = BeautifulSoup('<p class=\"body strikeout\"></p>')\n",
    "css_soup.p['class']\n",
    "# [\"body\", \"strikeout\"]"
   ]
  },
  {
   "cell_type": "code",
   "execution_count": 16,
   "metadata": {},
   "outputs": [
    {
     "name": "stdout",
     "output_type": "stream",
     "text": [
      "<p>Back to the <a rel=\"index contents\">homepage</a></p>\n"
     ]
    }
   ],
   "source": [
    "rel_soup = BeautifulSoup('<p>Back to the <a rel=\"index\">homepage</a></p>')\n",
    "rel_soup.a['rel']\n",
    "# ['index']\n",
    "rel_soup.a['rel'] = ['index', 'contents']\n",
    "print(rel_soup.p)\n",
    "# <p>Back to the <a rel=\"index contents\">homepage</a></p>"
   ]
  },
  {
   "cell_type": "code",
   "execution_count": 17,
   "metadata": {},
   "outputs": [
    {
     "data": {
      "text/plain": [
       "'body strikeout'"
      ]
     },
     "execution_count": 17,
     "metadata": {},
     "output_type": "execute_result"
    }
   ],
   "source": [
    "no_list_soup = BeautifulSoup('<p class=\"body strikeout\"></p>', 'html', multi_valued_attributes=None)\n",
    "no_list_soup.p['class']\n",
    "# u'body strikeout'"
   ]
  },
  {
   "cell_type": "code",
   "execution_count": 18,
   "metadata": {},
   "outputs": [
    {
     "ename": "NameError",
     "evalue": "name 'id_soup' is not defined",
     "output_type": "error",
     "traceback": [
      "\u001b[1;31m---------------------------------------------------------------------------\u001b[0m",
      "\u001b[1;31mNameError\u001b[0m                                 Traceback (most recent call last)",
      "\u001b[1;32m<ipython-input-18-db70c2a36e9e>\u001b[0m in \u001b[0;36m<module>\u001b[1;34m\u001b[0m\n\u001b[1;32m----> 1\u001b[1;33m \u001b[0mid_soup\u001b[0m\u001b[1;33m.\u001b[0m\u001b[0mp\u001b[0m\u001b[1;33m.\u001b[0m\u001b[0mget_attribute_list\u001b[0m\u001b[1;33m(\u001b[0m\u001b[1;34m'id'\u001b[0m\u001b[1;33m)\u001b[0m\u001b[1;33m\u001b[0m\u001b[1;33m\u001b[0m\u001b[0m\n\u001b[0m\u001b[0;32m      2\u001b[0m \u001b[1;31m# [\"my id\"]\u001b[0m\u001b[1;33m\u001b[0m\u001b[1;33m\u001b[0m\u001b[1;33m\u001b[0m\u001b[0m\n",
      "\u001b[1;31mNameError\u001b[0m: name 'id_soup' is not defined"
     ]
    }
   ],
   "source": [
    "id_soup.p.get_attribute_list('id')\n",
    "# [\"my id\"]"
   ]
  },
  {
   "cell_type": "code",
   "execution_count": 107,
   "metadata": {},
   "outputs": [
    {
     "name": "stdout",
     "output_type": "stream",
     "text": [
      "<option class=\"selectbox-default\" label=\"1\" selected=\"selected\" value=\"1205.7\"> 미국 달러 USD</option>\n"
     ]
    }
   ],
   "source": [
    "req = requests.get('https://finance.naver.com/marketindex/')\n",
    "## HTML 소스 가져오기\n",
    "html = req.text\n",
    "soup = BeautifulSoup(html, 'html.parser')\n",
    "option = soup.find_all('option')\n",
    "print(option[1])"
   ]
  },
  {
   "cell_type": "code",
   "execution_count": 111,
   "metadata": {},
   "outputs": [],
   "source": [
    "country = {}\n",
    "for i in option:\n",
    "    if i.text not in country:\n",
    "        country[i.text.strip()] = i['value']\n",
    "    "
   ]
  },
  {
   "cell_type": "code",
   "execution_count": 112,
   "metadata": {},
   "outputs": [
    {
     "data": {
      "text/plain": [
       "{'대한민국 원 KRW': '1',\n",
       " '미국 달러 USD': '1205.7',\n",
       " '유럽연합 유로 EUR': '1374.68',\n",
       " '일본 엔 JPY': '11.273499999999999',\n",
       " '중국 위안 CNY': '172.31',\n",
       " '홍콩 달러 HKD': '155.51',\n",
       " '대만 달러 TWD': '40.92',\n",
       " '영국 파운드 GBP': '1513.45',\n",
       " '오만 리알 OMR': '3131.69',\n",
       " '캐나다 달러 CAD': '892.91',\n",
       " '스위스 프랑 CHF': '1274.86',\n",
       " '스웨덴 크로나 SEK': '132.59',\n",
       " '호주 달러 AUD': '842.97',\n",
       " '뉴질랜드 달러 NZD': '791.0',\n",
       " '체코 코루나 CZK': '51.51',\n",
       " '칠레 페소 CLP': '1.54',\n",
       " '터키 리라 TRY': '175.81',\n",
       " '몽골 투그릭 MNT': '0.43',\n",
       " '이스라엘 세켈 ILS': '351.2',\n",
       " '덴마크 크로네 DKK': '184.61',\n",
       " '노르웨이 크로네 NOK': '129.44',\n",
       " '사우디아라비아 리얄 SAR': '321.47',\n",
       " '쿠웨이트 디나르 KWD': '3920.98',\n",
       " '바레인 디나르 BHD': '3197.72',\n",
       " '아랍에미리트 디르함 AED': '328.25',\n",
       " '요르단 디나르 JOD': '1700.56',\n",
       " '이집트 파운드 EGP': '75.5',\n",
       " '태국 바트 THB': '38.0',\n",
       " '싱가포르 달러 SGD': '865.7',\n",
       " '말레이시아 링깃 MYR': '282.33',\n",
       " '인도네시아 루피아 IDR': '0.0828',\n",
       " '카타르 리얄 QAR': '331.15',\n",
       " '카자흐스탄 텡게 KZT': '2.92',\n",
       " '브루나이 달러 BND': '865.11',\n",
       " '인도 루피 INR': '16.02',\n",
       " '파키스탄 루피 PKR': '7.21',\n",
       " '방글라데시 타카 BDT': '14.22',\n",
       " '필리핀 페소 PHP': '24.32',\n",
       " '멕시코 페소 MXN': '53.85',\n",
       " '브라질 레알 BRL': '224.52',\n",
       " '베트남 동 VND': '0.052000000000000005',\n",
       " '남아프리카 공화국 랜드 ZAR': '72.35',\n",
       " '러시아 루블 RUB': '16.96',\n",
       " '헝가리 포린트 HUF': '3.88',\n",
       " '폴란드 즈워티 PLN': '306.01'}"
      ]
     },
     "execution_count": 112,
     "metadata": {},
     "output_type": "execute_result"
    }
   ],
   "source": [
    "country"
   ]
  },
  {
   "cell_type": "code",
   "execution_count": 101,
   "metadata": {},
   "outputs": [
    {
     "name": "stdout",
     "output_type": "stream",
     "text": [
      "대한민국 원 KRW 1\n",
      "미국 달러 USD 1206.7\n",
      "유럽연합 유로 EUR 1375.58\n",
      "일본 엔 JPY 11.2865\n",
      "중국 위안 CNY 172.4\n",
      "홍콩 달러 HKD 155.65\n",
      "대만 달러 TWD 40.96\n",
      "영국 파운드 GBP 1514.11\n",
      "오만 리알 OMR 3134.29\n",
      "캐나다 달러 CAD 893.29\n",
      "스위스 프랑 CHF 1276.32\n",
      "스웨덴 크로나 SEK 132.62\n",
      "호주 달러 AUD 843.06\n",
      "뉴질랜드 달러 NZD 791.41\n",
      "체코 코루나 CZK 51.55\n",
      "칠레 페소 CLP 1.54\n",
      "터키 리라 TRY 175.96\n",
      "몽골 투그릭 MNT 0.43\n",
      "이스라엘 세켈 ILS 351.75\n",
      "덴마크 크로네 DKK 184.72\n",
      "노르웨이 크로네 NOK 129.45\n",
      "사우디아라비아 리얄 SAR 321.73\n",
      "쿠웨이트 디나르 KWD 3924.23\n",
      "바레인 디나르 BHD 3200.12\n",
      "아랍에미리트 디르함 AED 328.52\n",
      "요르단 디나르 JOD 1701.97\n",
      "이집트 파운드 EGP 75.56\n",
      "태국 바트 THB 38.01\n",
      "싱가포르 달러 SGD 866.17\n",
      "말레이시아 링깃 MYR 282.77\n",
      "인도네시아 루피아 IDR 0.08289999999999999\n",
      "카타르 리얄 QAR 331.32\n",
      "카자흐스탄 텡게 KZT 2.92\n",
      "브루나이 달러 BND 865.82\n",
      "인도 루피 INR 16.03\n",
      "파키스탄 루피 PKR 7.22\n",
      "방글라데시 타카 BDT 14.23\n",
      "필리핀 페소 PHP 24.33\n",
      "멕시코 페소 MXN 53.84\n",
      "브라질 레알 BRL 224.71\n",
      "베트남 동 VND 0.052000000000000005\n",
      "남아프리카 공화국 랜드 ZAR 72.43\n",
      "러시아 루블 RUB 16.98\n",
      "헝가리 포린트 HUF 3.89\n",
      "폴란드 즈워티 PLN 306.19\n",
      "45\n"
     ]
    }
   ],
   "source": [
    "for i in country:\n",
    "    print(i, country[i])\n",
    "print(len(country))"
   ]
  },
  {
   "cell_type": "code",
   "execution_count": 125,
   "metadata": {},
   "outputs": [],
   "source": [
    "url = \"https://finance.naver.com/marketindex/exchangeList.nhn\""
   ]
  },
  {
   "cell_type": "code",
   "execution_count": 126,
   "metadata": {},
   "outputs": [],
   "source": [
    "r = requests.get(url)"
   ]
  },
  {
   "cell_type": "code",
   "execution_count": 127,
   "metadata": {},
   "outputs": [],
   "source": [
    "soup = BeautifulSoup(r.text, 'html.parser')"
   ]
  },
  {
   "cell_type": "code",
   "execution_count": 128,
   "metadata": {},
   "outputs": [],
   "source": [
    "tit = soup.select(\"td.tit>a\")\n",
    "tit2 = soup.select(\"td.sale\")"
   ]
  },
  {
   "cell_type": "code",
   "execution_count": 142,
   "metadata": {},
   "outputs": [],
   "source": [
    "list1, list2 = [], []\n",
    "for i,j in zip(tit, tit2):\n",
    "    list1.append(i.string.strip())\n",
    "    list2.append(j.string.strip())\n"
   ]
  },
  {
   "cell_type": "code",
   "execution_count": 143,
   "metadata": {},
   "outputs": [
    {
     "data": {
      "text/plain": [
       "['미국 USD',\n",
       " '유럽연합 EUR',\n",
       " '일본 JPY (100엔)',\n",
       " '중국 CNY',\n",
       " '홍콩 HKD',\n",
       " '대만 TWD',\n",
       " '영국 GBP',\n",
       " '오만 OMR',\n",
       " '캐나다 CAD',\n",
       " '스위스 CHF',\n",
       " '스웨덴 SEK',\n",
       " '호주 AUD',\n",
       " '뉴질랜드 NZD',\n",
       " '체코 CZK',\n",
       " '칠레 CLP',\n",
       " '터키 TRY',\n",
       " '몽골 MNT',\n",
       " '이스라엘 ILS',\n",
       " '덴마크 DKK',\n",
       " '노르웨이 NOK',\n",
       " '사우디아라비아 SAR',\n",
       " '쿠웨이트 KWD',\n",
       " '바레인 BHD',\n",
       " '아랍에미리트 AED',\n",
       " '요르단 JOD',\n",
       " '이집트 EGP',\n",
       " '태국 THB',\n",
       " '싱가포르 SGD',\n",
       " '말레이시아 MYR',\n",
       " '인도네시아 IDR 100',\n",
       " '카타르 QAR',\n",
       " '카자흐스탄 KZT',\n",
       " '브루나이 BND',\n",
       " '인도 INR',\n",
       " '파키스탄 PKR',\n",
       " '방글라데시 BDT',\n",
       " '필리핀 PHP',\n",
       " '멕시코 MXN',\n",
       " '브라질 BRL',\n",
       " '베트남 VND 100',\n",
       " '남아프리카 공화국 ZAR',\n",
       " '러시아 RUB',\n",
       " '헝가리 HUF',\n",
       " '폴란드 PLN']"
      ]
     },
     "execution_count": 143,
     "metadata": {},
     "output_type": "execute_result"
    }
   ],
   "source": [
    "list1"
   ]
  },
  {
   "cell_type": "code",
   "execution_count": 144,
   "metadata": {},
   "outputs": [
    {
     "data": {
      "text/plain": [
       "['1,206.10',\n",
       " '1,375.20',\n",
       " '1,127.78',\n",
       " '172.35',\n",
       " '155.57',\n",
       " '40.93',\n",
       " '1,514.44',\n",
       " '3,132.73',\n",
       " '892.85',\n",
       " '1,275.42',\n",
       " '132.64',\n",
       " '843.31',\n",
       " '791.20',\n",
       " '51.53',\n",
       " '1.54',\n",
       " '175.87',\n",
       " '0.43',\n",
       " '351.23',\n",
       " '184.68',\n",
       " '129.47',\n",
       " '321.58',\n",
       " '3,922.28',\n",
       " '3,198.78',\n",
       " '328.36',\n",
       " '1,701.13',\n",
       " '75.52',\n",
       " '38.02',\n",
       " '866.02',\n",
       " '282.43',\n",
       " '8.28',\n",
       " '331.22',\n",
       " '2.92',\n",
       " '865.39',\n",
       " '16.03',\n",
       " '7.22',\n",
       " '14.22',\n",
       " '24.34',\n",
       " '53.86',\n",
       " '224.60',\n",
       " '5.20',\n",
       " '72.45',\n",
       " '16.97',\n",
       " '3.89',\n",
       " '306.52']"
      ]
     },
     "execution_count": 144,
     "metadata": {},
     "output_type": "execute_result"
    }
   ],
   "source": [
    "list2"
   ]
  },
  {
   "cell_type": "code",
   "execution_count": 146,
   "metadata": {},
   "outputs": [],
   "source": [
    "url2 = \"https://music.bugs.co.kr/chart?wl_ref=M_left_02_01\""
   ]
  },
  {
   "cell_type": "code",
   "execution_count": 238,
   "metadata": {},
   "outputs": [
    {
     "name": "stdout",
     "output_type": "stream",
     "text": [
      "103\n",
      "1 OHIO Crush OHIO\n",
      "2 How You Like That BLACKPINK How You Like That\n",
      "3 여름 안에서 (Covered By 싹쓰리) (Feat. 황광희) 싹쓰리 (유두래곤, 린다G, 비룡) 여름 안에서 (Covered By 싹쓰리)\n",
      "4 보라빛 밤 (pporappippam) 선미 보라빛 밤 (pporappippam)\n",
      "5 마리아 (Maria) 화사(Hwa Sa) María\n",
      "6 AWay 정은지 Simple\n",
      "7 PLAY (Feat. 창모) 청하 PLAY\n",
      "8 Summer Hate (Feat. 비) 지코 RANDOM BOX\n",
      "9 Monster 레드벨벳-아이린&슬기 Monster - The 1st Mini Album\n",
      "10 아직 너의 시간에 살아 이수현 사이코지만 괜찮아 OST Part.4\n",
      "11 Downtown Baby 블루(BLOO) Downtown Baby\n",
      "12 에잇(Prod.&Feat. SUGA of BTS) 아이유(IU) 에잇\n",
      "13 Dolphin 오마이걸(OH MY GIRL) NONSTOP\n",
      "14 Apple 여자친구(GFRIEND) 回:Song of the Sirens\n",
      "15 살짝 설렜어 (Nonstop) 오마이걸(OH MY GIRL) NONSTOP\n",
      "16 Into the I-LAND 아이유(IU) I-LAND Part.1 Signal Song\n",
      "17 MORE & MORE TWICE (트와이스) MORE & MORE\n",
      "18 Memories Maroon 5(마룬 파이브) Memories\n",
      "19 아로하 조정석 슬기로운 의사생활 OST Part 3\n",
      "20 Dance Monkey Tones And I The Kids Are Coming\n",
      "21 사랑하게 될 줄 알았어 전미도 슬기로운 의사생활 OST Part 11\n",
      "22 Blueming 아이유(IU) Love poem\n",
      "23 숨 (Breath) 샘김(Sam Kim) 사이코지만 괜찮아 OST Part.2\n",
      "24 Say So Doja Cat(도자 캣) Hot Pink\n",
      "25 거짓말이라도 해서 널 보고싶어 백지영 거짓말이라도 해서 널 보고싶어\n",
      "26 어떻게 지내 (Prod. By VAN.C) 오반 어떻게 지내\n",
      "27 Juice Lizzo Cuz I Love You (Deluxe)\n",
      "28 Don't Start Now Dua Lipa(두아 리파) Future Nostalgia\n",
      "29 환상동화 (Secret Story of the Swan) IZ*ONE(아이즈원) Oneiric Diary (幻想日記)\n",
      "30 나비와 고양이 (feat. 백현 (BAEKHYUN)) 볼빨간사춘기 사춘기집Ⅱ 꽃 본 나비\n",
      "31 Maniac Conan Gray Maniac\n",
      "32 흔들리는 꽃들 속에서 네 샴푸향이 느껴진거야 장범준 멜로가 체질 OST Part 3\n",
      "33 My Tale 박원 사이코지만 괜찮아 OST Part.3\n",
      "34 You're Cold (더 많이 사랑한 쪽이 아프대) 헤이즈(Heize) 사이코지만 괜찮아 OST Part.1\n",
      "35 WANNABE ITZY (있지) IT'z ME\n",
      "36 12:45 (Stripped) Etham 12:45 (Stripped)\n",
      "37 METEOR 창모(CHANGMO) Boyhood\n",
      "38 좋은 사람 있으면 소개시켜줘 조이 (JOY) 슬기로운 의사생활 OST Part 2\n",
      "39 품 볼빨간사춘기 사춘기집Ⅱ 꽃 본 나비\n",
      "40 Happy 태연 (TAEYEON) Happy\n",
      "41 BUNGEE (Fall in Love) 오마이걸(OH MY GIRL) OH MY GIRL SUMMER PACKAGE [FALL IN LOVE]\n",
      "42 2002 Anne-Marie(앤 마리) Speak Your Mind [Deluxe]\n",
      "43 Error (Feat. Loopy) ASH ISLAND Error\n",
      "44 불 좀 꺼줄래 오반 불 좀 꺼줄래\n",
      "45 Left & Right 세븐틴(Seventeen) SEVENTEEN 7th Mini Album '헹가래'\n",
      "46 화려하지 않은 고백 규현 (KYUHYUN) 슬기로운 의사생활 OST Part 4\n",
      "47 언제라도 어디에서라도 정승환 언제라도 어디에서라도\n",
      "48 Psycho Red Velvet (레드벨벳) ‘The ReVe Festival’ Finale\n",
      "49 밤이 깊었네 (Drama Ver.) 미도와 파라솔 슬기로운 의사생활 OST Part 10\n",
      "50 LALALILALA 에이프릴(APRIL) 에이프릴(APRIL) 7th Mini Album 'Da Capo'\n",
      "51 Square (2017) 백예린 Every letter I sent you.\n",
      "52 FIESTA IZ*ONE(아이즈원) BLOOM*IZ\n",
      "53 너에게 난, 나에게 넌 미도와 파라솔 슬기로운 의사생활 OST Part 12\n",
      "54 그대 고운 내사랑 어반자카파 슬기로운 의사생활 OST Part 5\n",
      "55 i'M THE TREND (여자)아이들 i'M THE TREND\n",
      "56 Painkiller Ruel(루엘) Painkiller\n",
      "57 아무노래 지코 아무노래\n",
      "58 첫 줄 신용재 Dear\n",
      "59 어떻게 이별까지 사랑하겠어, 널 사랑하는 거지 AKMU (악동뮤지션) 항해\n",
      "60 Lonely Night 권진아 슬기로운 의사생활 OST Part 1\n",
      "61 깡 Official Remix 식케이 (Sik-K) 깡 Official Remix\n",
      "62 집돌이 폴킴(Paul Kim) 집돌이\n",
      "63 Birthday Anne-Marie(앤 마리) Birthday\n",
      "64 시작 가호(Gaho) 이태원 클라쓰 OST Part.2\n",
      "65 작사가 헤이즈(Heize) Lyricist\n",
      "66 돌덩이 하현우(국카스텐) 이태원 클라쓰 OST Part.3\n",
      "67 Stuck with U Ariana Grande(아리아나 그란데) Stuck with U\n",
      "68 모든 날, 모든 순간 (Every day, Every Moment) 폴킴(Paul Kim) '키스 먼저 할까요?' OST Part.3\n",
      "69 Dishes Lauv(라우브) Without You\n",
      "70 마음을 드려요 아이유(IU) 사랑의 불시착 OST Part 11\n",
      "71 오늘따라 비가 와서 그런가 봐 솔지 오늘따라 비가 와서 그런가 봐\n",
      "72 Love poem 아이유(IU) Love poem\n",
      "73 Let Me (Feat. Devin Morrison) Crush OHIO\n",
      "74 자나깨나 (Feat. 조이 of Red Velvet) Crush homemade 1\n",
      "75 Paris In The Rain Lauv(라우브) I met you when I was 18. (the playlist)\n",
      "76 내 눈물 모아 휘인(Whee In) 슬기로운 의사생활 OST Part 8\n",
      "77 썸 타긴 뭘 타 백아연 썸 타긴 뭘 타\n",
      "78 덤더럼(Dumhdurum) Apink (에이핑크) LOOK\n",
      "79 니가 왜 거기서 나와 (Narr. 고은아) 영탁 니가 왜 거기서 나와\n",
      "80 어떻게 지내 (답가) 런치 어떻게 지내 (답가)\n",
      "81 늦은 밤 너의 집 앞 골목길에서 노을 늦은 밤 너의 집 앞 골목길에서\n",
      "82 To Die For Sam Smith(샘 스미스) To Die For\n",
      "83 Blinding Lights The Weeknd(위켄드) Blinding Lights\n",
      "84 사계 (Four Seasons) 태연 (TAEYEON) 사계 (Four Seasons)\n",
      "85 밤편지 아이유(IU) 밤편지\n",
      "86 오늘도 빛나는 너에게 (To You My Light) (Feat.이라온) 마크툽(Maktub) Red Moon : To You My Light\n",
      "87 Zombie DAY6 (데이식스) The Book of Us : The Demon\n",
      "88 안녕 폴킴(Paul Kim) 호텔 델루나 OST Part.10\n",
      "89 작은 것들을 위한 시 (Boy With Luv) (Feat. Halsey) 방탄소년단 MAP OF THE SOUL : PERSONA\n",
      "90 거울의 방 여자친구(GFRIEND) 回:Song of the Sirens\n",
      "91 Simple is the best 정은지 Simple\n",
      "92 처음처럼 엠씨더맥스 (M.C the MAX) CEREMONIA\n",
      "93 no song without you HONNE(혼네) no song without you\n",
      "94 이제 나만 믿어요 임영웅 내일은 미스터트롯 우승자 특전곡\n",
      "95 그때 그 아인 김필(Kim Feel) 이태원 클라쓰 OST Part.6\n",
      "96 Stay Tonight 청하 Stay Tonight\n",
      "97 별이 온다 신용재 Dear\n",
      "98 HIP 마마무(Mamamoo) reality in BLACK\n",
      "99 주저하는 연인들을 위해 잔나비 전설\n",
      "100 Easy Troye Sivan(트로이 시반) Easy\n"
     ]
    },
    {
     "ename": "IndexError",
     "evalue": "list index out of range",
     "output_type": "error",
     "traceback": [
      "\u001b[1;31m---------------------------------------------------------------------------\u001b[0m",
      "\u001b[1;31mIndexError\u001b[0m                                Traceback (most recent call last)",
      "\u001b[1;32m<ipython-input-238-21a8c52b99db>\u001b[0m in \u001b[0;36m<module>\u001b[1;34m\u001b[0m\n\u001b[0;32m      6\u001b[0m \u001b[0mprint\u001b[0m\u001b[1;33m(\u001b[0m\u001b[0mlen\u001b[0m\u001b[1;33m(\u001b[0m\u001b[0mresult\u001b[0m\u001b[1;33m)\u001b[0m\u001b[1;33m)\u001b[0m\u001b[1;33m\u001b[0m\u001b[1;33m\u001b[0m\u001b[0m\n\u001b[0;32m      7\u001b[0m \u001b[1;32mfor\u001b[0m \u001b[0mi\u001b[0m \u001b[1;32min\u001b[0m \u001b[0mresult\u001b[0m\u001b[1;33m:\u001b[0m\u001b[1;33m\u001b[0m\u001b[1;33m\u001b[0m\u001b[0m\n\u001b[1;32m----> 8\u001b[1;33m     \u001b[0mrank\u001b[0m \u001b[1;33m=\u001b[0m \u001b[0mi\u001b[0m\u001b[1;33m.\u001b[0m\u001b[0mselect\u001b[0m\u001b[1;33m(\u001b[0m\u001b[1;34m'.ranking > strong'\u001b[0m\u001b[1;33m)\u001b[0m\u001b[1;33m[\u001b[0m\u001b[1;36m0\u001b[0m\u001b[1;33m]\u001b[0m\u001b[1;33m.\u001b[0m\u001b[0mstring\u001b[0m\u001b[1;33m\u001b[0m\u001b[1;33m\u001b[0m\u001b[0m\n\u001b[0m\u001b[0;32m      9\u001b[0m     \u001b[0mtitle\u001b[0m \u001b[1;33m=\u001b[0m \u001b[0mi\u001b[0m\u001b[1;33m.\u001b[0m\u001b[0mselect\u001b[0m\u001b[1;33m(\u001b[0m\u001b[1;34m\".title>a\"\u001b[0m\u001b[1;33m)\u001b[0m\u001b[1;33m[\u001b[0m\u001b[1;36m0\u001b[0m\u001b[1;33m]\u001b[0m\u001b[1;33m.\u001b[0m\u001b[0mstring\u001b[0m\u001b[1;33m\u001b[0m\u001b[1;33m\u001b[0m\u001b[0m\n\u001b[0;32m     10\u001b[0m     \u001b[0martist2\u001b[0m \u001b[1;33m=\u001b[0m \u001b[0mi\u001b[0m\u001b[1;33m.\u001b[0m\u001b[0mselect\u001b[0m\u001b[1;33m(\u001b[0m\u001b[1;34m\".artist>a\"\u001b[0m\u001b[1;33m)\u001b[0m\u001b[1;33m[\u001b[0m\u001b[1;36m0\u001b[0m\u001b[1;33m]\u001b[0m\u001b[1;33m.\u001b[0m\u001b[0mstring\u001b[0m\u001b[1;33m\u001b[0m\u001b[1;33m\u001b[0m\u001b[0m\n",
      "\u001b[1;31mIndexError\u001b[0m: list index out of range"
     ]
    }
   ],
   "source": [
    "req = requests.get(url2)\n",
    "html = req.text\n",
    "soup = BeautifulSoup(html, 'html.parser')\n",
    "result = soup.select('tbody>tr')\n",
    "list = []\n",
    "print(len(result))\n",
    "for i in result:\n",
    "    rank = i.select('.ranking > strong')[0].string\n",
    "    title = i.select(\".title>a\")[0].string\n",
    "    artist2 = i.select(\".artist>a\")[0].string\n",
    "    album = i.select(\"td>a.album\")[0].string\n",
    "    print(rank+\" \"+title+ \" \" + artist2 + \" \" + album)"
   ]
  },
  {
   "cell_type": "code",
   "execution_count": 173,
   "metadata": {},
   "outputs": [
    {
     "data": {
      "text/plain": [
       "True"
      ]
     },
     "execution_count": 173,
     "metadata": {},
     "output_type": "execute_result"
    }
   ],
   "source": [
    "len(album) == len(title)"
   ]
  },
  {
   "cell_type": "code",
   "execution_count": 174,
   "metadata": {},
   "outputs": [
    {
     "data": {
      "text/plain": [
       "104"
      ]
     },
     "execution_count": 174,
     "metadata": {},
     "output_type": "execute_result"
    }
   ],
   "source": [
    "len(artist2)"
   ]
  },
  {
   "cell_type": "code",
   "execution_count": 180,
   "metadata": {},
   "outputs": [],
   "source": [
    "artist = []\n",
    "for i in artist2:\n",
    "    if i['title']!='아티스트 전체보기':\n",
    "        artist.append(i['title'])"
   ]
  },
  {
   "cell_type": "code",
   "execution_count": 179,
   "metadata": {},
   "outputs": [
    {
     "data": {
      "text/plain": [
       "True"
      ]
     },
     "execution_count": 179,
     "metadata": {},
     "output_type": "execute_result"
    }
   ],
   "source": [
    "len(artist) == len(title)"
   ]
  },
  {
   "cell_type": "code",
   "execution_count": 190,
   "metadata": {},
   "outputs": [],
   "source": [
    "url3 = \"https://news.naver.com/\""
   ]
  },
  {
   "cell_type": "code",
   "execution_count": 240,
   "metadata": {},
   "outputs": [],
   "source": [
    "req = requests.get(url3)\n",
    "html = req.text\n",
    "soup = BeautifulSoup(html, 'html.parser')\n",
    "result = soup.select('div.section_wide')[0]\n",
    "rank = soup.select('ul.section_list_ranking>li>a')"
   ]
  },
  {
   "cell_type": "code",
   "execution_count": 242,
   "metadata": {},
   "outputs": [
    {
     "name": "stdout",
     "output_type": "stream",
     "text": [
      "/main/ranking/read.nhn?mid=etc&sid1=111&rankingType=popular_day&oid=025&aid=0003018118&date=20200716&type=1&rankingSeq=1&rankingSectionId=100\n",
      "/main/ranking/read.nhn?mid=etc&sid1=111&rankingType=popular_day&oid=023&aid=0003546967&date=20200716&type=1&rankingSeq=2&rankingSectionId=100\n",
      "/main/ranking/read.nhn?mid=etc&sid1=111&rankingType=popular_day&oid=002&aid=0002142387&date=20200716&type=1&rankingSeq=3&rankingSectionId=100\n",
      "/main/ranking/read.nhn?mid=etc&sid1=111&rankingType=popular_day&oid=002&aid=0002142382&date=20200716&type=1&rankingSeq=4&rankingSectionId=100\n",
      "/main/ranking/read.nhn?mid=etc&sid1=111&rankingType=popular_day&oid=015&aid=0004381818&date=20200716&type=1&rankingSeq=5&rankingSectionId=100\n",
      "/main/ranking/read.nhn?mid=etc&sid1=111&rankingType=popular_day&oid=081&aid=0003107942&date=20200716&type=1&rankingSeq=6&rankingSectionId=100\n",
      "/main/ranking/read.nhn?mid=etc&sid1=111&rankingType=popular_day&oid=015&aid=0004381722&date=20200716&type=1&rankingSeq=7&rankingSectionId=100\n",
      "/main/ranking/read.nhn?mid=etc&sid1=111&rankingType=popular_day&oid=003&aid=0009970926&date=20200716&type=1&rankingSeq=8&rankingSectionId=100\n",
      "/main/ranking/read.nhn?mid=etc&sid1=111&rankingType=popular_day&oid=023&aid=0003546938&date=20200716&type=1&rankingSeq=9&rankingSectionId=100\n",
      "/main/ranking/read.nhn?mid=etc&sid1=111&rankingType=popular_day&oid=025&aid=0003018092&date=20200716&type=1&rankingSeq=10&rankingSectionId=100\n",
      "/main/ranking/read.nhn?mid=etc&sid1=111&rankingType=popular_day&oid=015&aid=0004381640&date=20200716&type=1&rankingSeq=1&rankingSectionId=101\n",
      "/main/ranking/read.nhn?mid=etc&sid1=111&rankingType=popular_day&oid=008&aid=0004440975&date=20200716&type=1&rankingSeq=2&rankingSectionId=101\n",
      "/main/ranking/read.nhn?mid=etc&sid1=111&rankingType=popular_day&oid=015&aid=0004381780&date=20200716&type=1&rankingSeq=3&rankingSectionId=101\n",
      "/main/ranking/read.nhn?mid=etc&sid1=111&rankingType=popular_day&oid=015&aid=0004381777&date=20200716&type=1&rankingSeq=4&rankingSectionId=101\n",
      "/main/ranking/read.nhn?mid=etc&sid1=111&rankingType=popular_day&oid=001&aid=0011750142&date=20200716&type=1&rankingSeq=5&rankingSectionId=101\n",
      "/main/ranking/read.nhn?mid=etc&sid1=111&rankingType=popular_day&oid=081&aid=0003107910&date=20200716&type=1&rankingSeq=6&rankingSectionId=101\n",
      "/main/ranking/read.nhn?mid=etc&sid1=111&rankingType=popular_day&oid=366&aid=0000555816&date=20200716&type=1&rankingSeq=7&rankingSectionId=101\n",
      "/main/ranking/read.nhn?mid=etc&sid1=111&rankingType=popular_day&oid=437&aid=0000242839&date=20200715&type=2&rankingSeq=8&rankingSectionId=101\n",
      "/main/ranking/read.nhn?mid=etc&sid1=111&rankingType=popular_day&oid=009&aid=0004616370&date=20200716&type=1&rankingSeq=9&rankingSectionId=101\n",
      "/main/ranking/read.nhn?mid=etc&sid1=111&rankingType=popular_day&oid=009&aid=0004615853&date=20200715&type=1&rankingSeq=10&rankingSectionId=101\n",
      "/main/ranking/read.nhn?mid=etc&sid1=111&rankingType=popular_day&oid=001&aid=0011750191&date=20200716&type=1&rankingSeq=1&rankingSectionId=102\n",
      "/main/ranking/read.nhn?mid=etc&sid1=111&rankingType=popular_day&oid=015&aid=0004381784&date=20200716&type=1&rankingSeq=2&rankingSectionId=102\n",
      "/main/ranking/read.nhn?mid=etc&sid1=111&rankingType=popular_day&oid=015&aid=0004381800&date=20200716&type=1&rankingSeq=3&rankingSectionId=102\n",
      "/main/ranking/read.nhn?mid=etc&sid1=111&rankingType=popular_day&oid=437&aid=0000242893&date=20200716&type=2&rankingSeq=4&rankingSectionId=102\n",
      "/main/ranking/read.nhn?mid=etc&sid1=111&rankingType=popular_day&oid=081&aid=0003107921&date=20200716&type=1&rankingSeq=5&rankingSectionId=102\n",
      "/main/ranking/read.nhn?mid=etc&sid1=111&rankingType=popular_day&oid=215&aid=0000886373&date=20200716&type=1&rankingSeq=6&rankingSectionId=102\n",
      "/main/ranking/read.nhn?mid=etc&sid1=111&rankingType=popular_day&oid=003&aid=0009971367&date=20200716&type=1&rankingSeq=7&rankingSectionId=102\n",
      "/main/ranking/read.nhn?mid=etc&sid1=111&rankingType=popular_day&oid=001&aid=0011750249&date=20200716&type=1&rankingSeq=8&rankingSectionId=102\n",
      "/main/ranking/read.nhn?mid=etc&sid1=111&rankingType=popular_day&oid=449&aid=0000194804&date=20200716&type=1&rankingSeq=9&rankingSectionId=102\n",
      "/main/ranking/read.nhn?mid=etc&sid1=111&rankingType=popular_day&oid=277&aid=0004719844&date=20200716&type=0&rankingSeq=10&rankingSectionId=102\n",
      "/main/ranking/read.nhn?mid=etc&sid1=111&rankingType=popular_day&oid=023&aid=0003546859&date=20200716&type=1&rankingSeq=1&rankingSectionId=103\n",
      "/main/ranking/read.nhn?mid=etc&sid1=111&rankingType=popular_day&oid=008&aid=0004440639&date=20200716&type=1&rankingSeq=2&rankingSectionId=103\n",
      "/main/ranking/read.nhn?mid=etc&sid1=111&rankingType=popular_day&oid=023&aid=0003546704&date=20200715&type=1&rankingSeq=3&rankingSectionId=103\n",
      "/main/ranking/read.nhn?mid=etc&sid1=111&rankingType=popular_day&oid=023&aid=0003546725&date=20200715&type=1&rankingSeq=4&rankingSectionId=103\n",
      "/main/ranking/read.nhn?mid=etc&sid1=111&rankingType=popular_day&oid=346&aid=0000033005&date=20200715&type=1&rankingSeq=5&rankingSectionId=103\n",
      "/main/ranking/read.nhn?mid=etc&sid1=111&rankingType=popular_day&oid=025&aid=0003018115&date=20200716&type=1&rankingSeq=6&rankingSectionId=103\n",
      "/main/ranking/read.nhn?mid=etc&sid1=111&rankingType=popular_day&oid=028&aid=0002505165&date=20200715&type=1&rankingSeq=7&rankingSectionId=103\n",
      "/main/ranking/read.nhn?mid=etc&sid1=111&rankingType=popular_day&oid=437&aid=0000242840&date=20200715&type=2&rankingSeq=8&rankingSectionId=103\n",
      "/main/ranking/read.nhn?mid=etc&sid1=111&rankingType=popular_day&oid=055&aid=0000828263&date=20200716&type=1&rankingSeq=9&rankingSectionId=103\n",
      "/main/ranking/read.nhn?mid=etc&sid1=111&rankingType=popular_day&oid=025&aid=0003018112&date=20200716&type=1&rankingSeq=10&rankingSectionId=103\n",
      "/main/ranking/read.nhn?mid=etc&sid1=111&rankingType=popular_day&oid=025&aid=0003017991&date=20200716&type=1&rankingSeq=1&rankingSectionId=104\n",
      "/main/ranking/read.nhn?mid=etc&sid1=111&rankingType=popular_day&oid=055&aid=0000828286&date=20200716&type=2&rankingSeq=2&rankingSectionId=104\n",
      "/main/ranking/read.nhn?mid=etc&sid1=111&rankingType=popular_day&oid=025&aid=0003018109&date=20200716&type=1&rankingSeq=3&rankingSectionId=104\n",
      "/main/ranking/read.nhn?mid=etc&sid1=111&rankingType=popular_day&oid=437&aid=0000242888&date=20200716&type=1&rankingSeq=4&rankingSectionId=104\n",
      "/main/ranking/read.nhn?mid=etc&sid1=111&rankingType=popular_day&oid=020&aid=0003298121&date=20200716&type=1&rankingSeq=5&rankingSectionId=104\n",
      "/main/ranking/read.nhn?mid=etc&sid1=111&rankingType=popular_day&oid=055&aid=0000828291&date=20200716&type=1&rankingSeq=6&rankingSectionId=104\n",
      "/main/ranking/read.nhn?mid=etc&sid1=111&rankingType=popular_day&oid=214&aid=0001052122&date=20200716&type=2&rankingSeq=7&rankingSectionId=104\n",
      "/main/ranking/read.nhn?mid=etc&sid1=111&rankingType=popular_day&oid=437&aid=0000242863&date=20200716&type=2&rankingSeq=8&rankingSectionId=104\n",
      "/main/ranking/read.nhn?mid=etc&sid1=111&rankingType=popular_day&oid=008&aid=0004440738&date=20200716&type=1&rankingSeq=9&rankingSectionId=104\n",
      "/main/ranking/read.nhn?mid=etc&sid1=111&rankingType=popular_day&oid=055&aid=0000828229&date=20200716&type=1&rankingSeq=10&rankingSectionId=104\n",
      "/main/ranking/read.nhn?mid=etc&sid1=111&rankingType=popular_day&oid=366&aid=0000555364&date=20200715&type=1&rankingSeq=1&rankingSectionId=105\n",
      "/main/ranking/read.nhn?mid=etc&sid1=111&rankingType=popular_day&oid=015&aid=0004381554&date=20200716&type=1&rankingSeq=2&rankingSectionId=105\n",
      "/main/ranking/read.nhn?mid=etc&sid1=111&rankingType=popular_day&oid=023&aid=0003546720&date=20200715&type=1&rankingSeq=3&rankingSectionId=105\n",
      "/main/ranking/read.nhn?mid=etc&sid1=111&rankingType=popular_day&oid=023&aid=0003546884&date=20200716&type=1&rankingSeq=4&rankingSectionId=105\n",
      "/main/ranking/read.nhn?mid=etc&sid1=111&rankingType=popular_day&oid=421&aid=0004757697&date=20200716&type=1&rankingSeq=5&rankingSectionId=105\n",
      "/main/ranking/read.nhn?mid=etc&sid1=111&rankingType=popular_day&oid=092&aid=0002194032&date=20200716&type=1&rankingSeq=6&rankingSectionId=105\n",
      "/main/ranking/read.nhn?mid=etc&sid1=111&rankingType=popular_day&oid=008&aid=0004440974&date=20200716&type=1&rankingSeq=7&rankingSectionId=105\n",
      "/main/ranking/read.nhn?mid=etc&sid1=111&rankingType=popular_day&oid=016&aid=0001700134&date=20200716&type=1&rankingSeq=8&rankingSectionId=105\n",
      "/main/ranking/read.nhn?mid=etc&sid1=111&rankingType=popular_day&oid=417&aid=0000569055&date=20200716&type=1&rankingSeq=9&rankingSectionId=105\n",
      "/main/ranking/read.nhn?mid=etc&sid1=111&rankingType=popular_day&oid=092&aid=0002194028&date=20200716&type=1&rankingSeq=10&rankingSectionId=105\n"
     ]
    }
   ],
   "source": [
    "article = []\n",
    "for i in rank:\n",
    "    req = requests.get('https://news.naver.com'+i['href'])\n",
    "    html = req.text\n",
    "    soup = BeautifulSoup(html, 'html.parser')"
   ]
  },
  {
   "cell_type": "code",
   "execution_count": 232,
   "metadata": {},
   "outputs": [
    {
     "name": "stdout",
     "output_type": "stream",
     "text": [
      "'야당 부의장' 없이 완성된 18:0…전해철 정보위원장 선출\n",
      "벼랑끝 부활한 이재명... 與 \"이낙연 대선 독주 흔들수도\"\n",
      "[속보] 이재명 기사회생...무죄 취지 파기환송\n",
      "[속보] 대법원 \"이재명, 허위사실 공표죄로 처벌할 수 없다\"\n",
      "[속보] 이재명, 벼랑끝에서 기사회생…'차기 대권주자' 탄력\n",
      "족쇄 벗은 이재명, 이낙연 원톱 대권구도 흔들까\n",
      "\"없는 살림에 유학 보내는 비법\"…이인영·김두관·윤미향 논란\n",
      "주호영, 文대통령에 질문…\"박원순·김현미·추미애 입장 뭔가\"(종합)\n",
      "통일부 \"이인영 아들, 스위스서 월세 50만원 내고 살아\"\n",
      "'이 나라에 무슨 일이' 내건 주호영 \"文에 10가지 묻겠다\"\n",
      "1억 빌리면 月 이자 16만원…'마침내' 연 1%대 주담대 나왔다\n",
      "\"전쟁이다\" 오픈전부터 수백미터 줄…'이마트 신촌점' 가보니\n",
      "강남 아파트 한 단지가 통째로 팔린 사연은? [집코노미]\n",
      "[속보]'인보사 의혹' 이웅열 전 코오롱회장 불구속 기소\n",
      "7·10대책에도 꺾이지 않는 서울 아파트값…6주 연속 상승\n",
      "[속보] 한은 “경제성장률 조정 불가피…최악의 시나리오”\n",
      "빅딜일 줄 알았는데 노딜 유력… “아시아나·이스타 법정관리 불가피\"\n",
      "[발품경제] 한 송이 6만원 '샤인머스캣'…비쌀수록 달콤할까?\n",
      "[단독/레이더P] 文정부 연금개혁 늦추다간…국민연금 2055년엔 완전 고갈\n",
      "1주택자 증세 없다더니…`稅폭탄` 고지서에 부글부글\n",
      "[속보] 대법 \"이재명 발언 허위사실 공표죄로 처벌할 수 없다\"\n",
      "[속보] 이재명 재판 \"선거 공정성 해치지 않는 한 선거운동 자유 보장해야\"\n",
      "[속보] 이재명 재판 \"토론회 주장, 허위사실 공표라고 볼 수 없어\"\n",
      "[현장영상] 대법, 이재명 사건 무죄 취지 파기환송…지사직 유지\n",
      "이재명 재판에 정치생명 판가름…“겸허히 결과 기다리겠다”(종합)\n",
      "[속보] 대법, 이재명 사건 무죄 취지로 파기...지사직 유지\n",
      "[속보]대법 \"이재명 토론회 발언, 허위사실 공표라는 원심 잘못\"\n",
      "[1보] 대법, 이재명 사건 무죄 취지로 파기…\"허위사실 공표 아냐\"\n",
      "“이재명, 허위사실 공표죄로 처벌할 수 없다”\n",
      "[속보] 대법 \"이재명 발언 적극적인 허위사실공표로 보기 어려워\"\n",
      "50억에 시작해 50초 만에 끝났다… '겸재 화첩'의 굴욕\n",
      "박보검, 딱붙는 니트부터 슈트까지…\"이런 모습 처음\"\n",
      "\"가족 2차 피해\"…신현준, 프로포폴 의혹 고발되자 결국 슈돌 하차[전문]\n",
      "진보학자 김동춘 \"박원순, 100조 있어도 복원 못하는 사람\"\n",
      "엉덩이 납작하면 잘 생기는 '병'\n",
      "박 전 시장, 2018년 성폭력 예방교육 참석했지만…지자체장 성폭력 사건 처리 매뉴얼 미비\n",
      "[ESC] 제주에서 뭐 먹젠? 도민 추천 맛집 13곳 공개합니다\n",
      "\"마스크 안 쓰면 못 타\"…뱅크시, 지하철에 '코로나 그림'\n",
      "[인-잇] 퇴사, 나는 너에게 어떤 동료였을까\n",
      "[더오래]썸이 사랑의 감정으로 바뀌는 건 이럴 때\n",
      "“韓, 코로나 사망 적은 이유” 佛 연구진이 밝힌 비결은 ‘김치’\n",
      "2초 만에 잔해로 변한 코로나 시설…불법 증축의 민낯\n",
      "오바마·머스크 트위터 동시다발 해킹…한순간 1억여원 털었다\n",
      "\"30분 안에 입금하면 두배로 돌려줄 것\"…오바마·빌게이츠 계정 등 사상초유 무더기 해킹\n",
      "美 인권단체, 文대통령에 긴급 항의 서한 “대북전단, 단속보다 보호해야”\n",
      "\"한국처럼 먹으면 지구 못 버틴다\" 환경단체 식습관 분석 결과\n",
      "[World Now] 감염자 450명 급증에도…아베\" 돈 줄테니 여행 가라\"\n",
      "파리 공원서 산책하다가…시위대 마주친 마크롱 대통령\n",
      "7살 때 입양한 아들, 13년 키운 뒤 결혼한 30대 여성…\"임신 중\"\n",
      "[Pick] 맹견과 목숨 건 맞대결…동생 지킨 6살 '슈퍼히어로'\n",
      "천만 탈모인 희소식, 들판 야생화에서 발모제 성분 발견\n",
      "[단독] 삼성에 1조 쏜 애플…이번이 '마지막 보상금'이었다\n",
      "어느날 이재용이 말 없이 올려놓은 '버튼 7개' 리모콘\n",
      "[사이언스카페] 실수로 태어난 상어판 라이거\n",
      "갤노트20 새 이미지 유출…\"평평한 디스플레이·레이저 오토 포커스 탑재\"\n",
      "\"코로나19, 삼성 스마트폰만 직격탄 맞았다\"\n",
      "\"코로나19 통제불능 빠진 美…韓이 위기극복 중심돼 달라\"\n",
      "“금맥이 되다!\"… 韓 ‘콩밭’, 일본·인도 압도[IT선빵!]\n",
      "'도미노 복날피자' 캐시워크 돈버는퀴즈 각각 정답은?\n",
      "갤럭시노트20에 ‘덱스’ 무선모드 지원되나\n"
     ]
    }
   ],
   "source": []
  },
  {
   "cell_type": "code",
   "execution_count": 233,
   "metadata": {},
   "outputs": [
    {
     "data": {
      "text/plain": [
       "60"
      ]
     },
     "execution_count": 233,
     "metadata": {},
     "output_type": "execute_result"
    }
   ],
   "source": [
    "len(article)"
   ]
  },
  {
   "cell_type": "code",
   "execution_count": null,
   "metadata": {},
   "outputs": [],
   "source": []
  }
 ],
 "metadata": {
  "kernelspec": {
   "display_name": "Python 3",
   "language": "python",
   "name": "python3"
  },
  "language_info": {
   "codemirror_mode": {
    "name": "ipython",
    "version": 3
   },
   "file_extension": ".py",
   "mimetype": "text/x-python",
   "name": "python",
   "nbconvert_exporter": "python",
   "pygments_lexer": "ipython3",
   "version": "3.7.6"
  }
 },
 "nbformat": 4,
 "nbformat_minor": 4
}
